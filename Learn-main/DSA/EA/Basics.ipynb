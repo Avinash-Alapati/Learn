{
 "cells": [
  {
   "cell_type": "code",
   "execution_count": 1,
   "id": "2b846e77-fc2e-4abc-a60e-48958bd2f7f1",
   "metadata": {},
   "outputs": [
    {
     "name": "stdout",
     "output_type": "stream",
     "text": [
      "9\n"
     ]
    }
   ],
   "source": [
    "a = 3\n",
    "b = 6\n",
    "print(a+b)"
   ]
  },
  {
   "cell_type": "code",
   "execution_count": 3,
   "id": "01090c74-f2e2-49e3-89a9-8c87358b5d67",
   "metadata": {},
   "outputs": [
    {
     "name": "stdout",
     "output_type": "stream",
     "text": [
      "6\n"
     ]
    }
   ],
   "source": [
    "# Finding the required numbers count in an List - 1\n",
    "\n",
    "li = [1,2,4,3,3,2,2,5,2,2,2,7,7]\n",
    "ans = 0\n",
    "for i in li:\n",
    "    if i == 2:\n",
    "        ans +=1\n",
    "print(ans)"
   ]
  },
  {
   "cell_type": "code",
   "execution_count": 4,
   "id": "96ed9e36-fdb6-421a-8fda-28ecf785eea4",
   "metadata": {},
   "outputs": [
    {
     "name": "stdout",
     "output_type": "stream",
     "text": [
      "6\n"
     ]
    }
   ],
   "source": [
    "# Finding the required numbers in an List - 2\n",
    "\n",
    "li = [1,2,4,3,3,2,2,5,2,2,2,7,7,]\n",
    "ans = 0\n",
    "for i in range(len(li)):\n",
    "    if li[i] == 2:\n",
    "        ans+=1\n",
    "print(ans)\n"
   ]
  },
  {
   "cell_type": "code",
   "execution_count": 5,
   "id": "5c3170af-61d4-4a18-8f24-2e2a9bc8fa4d",
   "metadata": {},
   "outputs": [
    {
     "name": "stdout",
     "output_type": "stream",
     "text": [
      "8\n"
     ]
    }
   ],
   "source": [
    "# Finding the divisibility of required number in List\n",
    "\n",
    "li = [1,2,2,4,3,3,2,2,5,2,2,2,7,7]\n",
    "n = len(li)\n",
    "ans = 0\n",
    "for i in range(n):\n",
    "    if li[i]%2 == 0:\n",
    "        ans+=1\n",
    "print(ans)"
   ]
  },
  {
   "cell_type": "code",
   "execution_count": 6,
   "id": "774c9987-e56d-416e-9c0e-ad67d2ee812d",
   "metadata": {},
   "outputs": [
    {
     "name": "stdout",
     "output_type": "stream",
     "text": [
      "5\n"
     ]
    }
   ],
   "source": [
    "li = [3,6,7,8,9,12,15]\n",
    "\n",
    "ans = 0\n",
    "\n",
    "for i in range(len(li)):\n",
    "    if li[i]%3 == 0:\n",
    "        ans += 1\n",
    "print(ans)"
   ]
  },
  {
   "cell_type": "code",
   "execution_count": 7,
   "id": "88b101fe-e397-45f7-bbde-2610d61a9536",
   "metadata": {},
   "outputs": [
    {
     "name": "stdout",
     "output_type": "stream",
     "text": [
      "2\n"
     ]
    }
   ],
   "source": [
    "  #AND operator\n",
    "\n",
    "\"\"\"if ((2+3==5) and (5+4==9)):\n",
    "    print(\"Avinashh\")\n",
    "else:\n",
    "    print(\"Sai\")\"\"\"\n",
    "\n",
    "li = [3,6,7,8,9,12,15]\n",
    "\n",
    "ans = 0\n",
    "\n",
    "for i in range(len(li)):\n",
    "    if li[i]%3 == 0 and li[i]%2==0:\n",
    "        ans += 1\n",
    "print(ans)"
   ]
  },
  {
   "cell_type": "code",
   "execution_count": 8,
   "id": "72495956-5732-48d2-bf15-bd6d0d8d328d",
   "metadata": {},
   "outputs": [
    {
     "name": "stdout",
     "output_type": "stream",
     "text": [
      "6\n"
     ]
    }
   ],
   "source": [
    "#OR operator\n",
    "\n",
    "\"\"\"if (2+3==6 or 5+4==4):\n",
    "    print(\"Avinashh\")\n",
    "else:\n",
    "    print(\"Sai\")\"\"\"\n",
    "\n",
    "\n",
    "\n",
    "li = [3,6,7,8,9,12,15]\n",
    "\n",
    "ans = 0\n",
    "\n",
    "for i in range(len(li)):\n",
    "    if li[i]%3 == 0 or li[i]%2==0:\n",
    "        ans += 1\n",
    "print(ans)"
   ]
  },
  {
   "cell_type": "code",
   "execution_count": 9,
   "id": "ce19d73b-f507-4060-92bb-e4e07ed6b48d",
   "metadata": {},
   "outputs": [
    {
     "name": "stdin",
     "output_type": "stream",
     "text": [
      " 25\n"
     ]
    },
    {
     "name": "stdout",
     "output_type": "stream",
     "text": [
      "0\n",
      "1\n",
      "2\n",
      "3\n",
      "5\n",
      "7\n",
      "11\n",
      "13\n",
      "17\n",
      "19\n",
      "23\n"
     ]
    }
   ],
   "source": [
    "# Prime Numbers Upto 25\n",
    "\n",
    "n = int(input())\n",
    "\n",
    "for i in range(n):\n",
    "    for j in range(2,i):\n",
    "        if i%j == 0:\n",
    "            break\n",
    "    else:\n",
    "        print(i)"
   ]
  },
  {
   "cell_type": "code",
   "execution_count": 10,
   "id": "2ab28db1-de15-4beb-bd1e-91dc473c6447",
   "metadata": {},
   "outputs": [
    {
     "name": "stdin",
     "output_type": "stream",
     "text": [
      " Avinashh\n"
     ]
    },
    {
     "name": "stdout",
     "output_type": "stream",
     "text": [
      "hhsanivA\n"
     ]
    }
   ],
   "source": [
    "# Reversing a String\n",
    "s = input()\n",
    "     \n",
    "n=len(s)\n",
    "ans = \"\"\n",
    "for i in range(n-1,-1,-1):\n",
    "    ans = ans+s[i]\n",
    "print(ans)\n"
   ]
  },
  {
   "cell_type": "code",
   "execution_count": 11,
   "id": "36f70ab6-8782-44bd-9608-c92ecdd8d884",
   "metadata": {},
   "outputs": [
    {
     "name": "stdout",
     "output_type": "stream",
     "text": [
      "2\n",
      "Sai\n",
      "26\n",
      "Avinash\n"
     ]
    }
   ],
   "source": [
    "#Reversing a list\n",
    "list = [\"Avinash\",26,\"Sai\",2]\n",
    "\n",
    "n=len(list)\n",
    "for i in range(n-1,-1,-1):\n",
    "    print(list[i])"
   ]
  },
  {
   "cell_type": "code",
   "execution_count": 12,
   "id": "50696dcd-04cf-4055-b6b0-b6e1e7cd1403",
   "metadata": {},
   "outputs": [
    {
     "data": {
      "text/plain": [
       "[2, 'Sai', 26, 'Avinash']"
      ]
     },
     "execution_count": 12,
     "metadata": {},
     "output_type": "execute_result"
    }
   ],
   "source": [
    "list = [\"Avinash\",26,\"Sai\",2]\n",
    "\n",
    "list[::-1]"
   ]
  },
  {
   "cell_type": "code",
   "execution_count": 17,
   "id": "bcc06772-61e5-45f7-af95-72b01e3d98f1",
   "metadata": {},
   "outputs": [
    {
     "name": "stdin",
     "output_type": "stream",
     "text": [
      " abba\n"
     ]
    },
    {
     "name": "stdout",
     "output_type": "stream",
     "text": [
      "abba\n",
      "Yes, Its a Palindrome\n"
     ]
    }
   ],
   "source": [
    "#Palindrome - Method-1\n",
    "s = input()\n",
    "n=len(s) #Taking The Length of Iput String\n",
    "\n",
    "ans=\"\" # an empty string\n",
    "\n",
    "for i in range(n-1,-1,-1): #Reversing The String\n",
    "    ans += s[i] \n",
    "\n",
    "print(ans)\n",
    "\n",
    "if ans == s: # Checking if the Reversed String is equal to the main string or not\n",
    "    print(\"Yes, Its a Palindrome\") # If Yes Palindrome\n",
    "else:\n",
    "    print(\"No, Its Not a Palindrome\") # If No Not a Palindrome"
   ]
  },
  {
   "cell_type": "code",
   "execution_count": 21,
   "id": "0416c367-6d98-4ee8-9a0f-0dfc6ecb7ad1",
   "metadata": {},
   "outputs": [
    {
     "name": "stdin",
     "output_type": "stream",
     "text": [
      " abcddcba\n"
     ]
    },
    {
     "name": "stdout",
     "output_type": "stream",
     "text": [
      "a a\n",
      "b b\n",
      "c c\n",
      "d d\n",
      "Yes, Its a Palindrome\n"
     ]
    }
   ],
   "source": [
    "# Palindrome - Method-2\n",
    "s = input()\n",
    "\n",
    "n = len(s)//2 # making the given string two Parts into half\n",
    "\n",
    "mu = len(s)\n",
    "\n",
    "valid = True # Decision Bool\n",
    "\n",
    "for i in range(n):  \n",
    "    left =  s[i]    # Taking The Left Part\n",
    "    right = s[mu-1-i]    ## Taking The Left Part\n",
    "    print(left,right)  # You can Check output for reference\n",
    "    if left != right: \n",
    "        valid = False\n",
    "        break\n",
    "    \n",
    "if valid:\n",
    "    print(\"Yes, Its a Palindrome\")\n",
    "else:\n",
    "    print(\"No, Its Not a Palindrome\")\n",
    "    "
   ]
  },
  {
   "cell_type": "code",
   "execution_count": 19,
   "id": "e7522dad-af21-4bda-a5c4-fafcfddda8dd",
   "metadata": {},
   "outputs": [
    {
     "name": "stdin",
     "output_type": "stream",
     "text": [
      " mahi\n"
     ]
    },
    {
     "name": "stdout",
     "output_type": "stream",
     "text": [
      "hima\n"
     ]
    }
   ],
   "source": [
    "# Placing First Half to last and vice-versa\n",
    "s = input()\n",
    "\n",
    "a = s[2:]  + s[:2]\n",
    "\n",
    "print(a)"
   ]
  },
  {
   "cell_type": "code",
   "execution_count": 23,
   "id": "a36a9e03-18af-4c2b-bbdf-0c9d8ab4ebce",
   "metadata": {},
   "outputs": [
    {
     "name": "stdout",
     "output_type": "stream",
     "text": [
      "Avi\n",
      "Avi\n",
      "Avi\n",
      "Avi\n"
     ]
    }
   ],
   "source": [
    "#Function\n",
    "\n",
    "def loop(s,n):\n",
    "    for i in range(n):\n",
    "        print(s)\n",
    "\n",
    "loop(\"Avi\",4)"
   ]
  },
  {
   "cell_type": "code",
   "execution_count": 26,
   "id": "28af12d3-03d1-4f79-9b50-4d969d90f589",
   "metadata": {},
   "outputs": [
    {
     "name": "stdin",
     "output_type": "stream",
     "text": [
      "Enter a Table: 5\n"
     ]
    },
    {
     "name": "stdout",
     "output_type": "stream",
     "text": [
      "5 * 1 = 5\n",
      "5 * 2 = 10\n",
      "5 * 3 = 15\n",
      "5 * 4 = 20\n",
      "5 * 5 = 25\n",
      "5 * 6 = 30\n",
      "5 * 7 = 35\n",
      "5 * 8 = 40\n",
      "5 * 9 = 45\n",
      "5 * 10 = 50\n"
     ]
    }
   ],
   "source": [
    "# Printing Table \n",
    "\n",
    "def fun(n):\n",
    "     for i in range(1,11):\n",
    "         print(str(n)+\" * \"+str(i)+\" = \"+str(n*i))\n",
    "n = int(input(\"Enter a Table:\"))\n",
    "fun(n)"
   ]
  },
  {
   "cell_type": "code",
   "execution_count": 28,
   "id": "1b100cef-ea4e-4504-892d-4c27498bed76",
   "metadata": {},
   "outputs": [
    {
     "name": "stdout",
     "output_type": "stream",
     "text": [
      "10 * 1 = 10\n",
      "10 * 2 = 20\n",
      "10 * 3 = 30\n",
      "10 * 4 = 40\n",
      "10 * 5 = 50\n",
      "10 * 6 = 60\n",
      "10 * 7 = 70\n",
      "10 * 8 = 80\n",
      "10 * 9 = 90\n",
      "10 * 10 = 100\n"
     ]
    }
   ],
   "source": [
    "# Printing Table - Method-2\n",
    "def table(n):\n",
    "    for i in range(1,11):\n",
    "        print(f\"{n} * {i} = {n*i}\")\n",
    "\n",
    "table(10)"
   ]
  },
  {
   "cell_type": "code",
   "execution_count": null,
   "id": "78f31daa-6c47-4ae2-b186-ee889bdfd2d2",
   "metadata": {},
   "outputs": [],
   "source": []
  }
 ],
 "metadata": {
  "kernelspec": {
   "display_name": "Python 3 (ipykernel)",
   "language": "python",
   "name": "python3"
  },
  "language_info": {
   "codemirror_mode": {
    "name": "ipython",
    "version": 3
   },
   "file_extension": ".py",
   "mimetype": "text/x-python",
   "name": "python",
   "nbconvert_exporter": "python",
   "pygments_lexer": "ipython3",
   "version": "3.12.7"
  }
 },
 "nbformat": 4,
 "nbformat_minor": 5
}
