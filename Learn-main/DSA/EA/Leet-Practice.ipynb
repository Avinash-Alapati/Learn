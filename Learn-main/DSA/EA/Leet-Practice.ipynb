{
 "cells": [
  {
   "cell_type": "code",
   "execution_count": 1,
   "id": "c32fe2b6-2339-4728-b25c-87e9e746d363",
   "metadata": {},
   "outputs": [
    {
     "name": "stdout",
     "output_type": "stream",
     "text": [
      "-1\n"
     ]
    }
   ],
   "source": [
    "#2011. Final Value of Variable After Performing Operations\n",
    "       \n",
    "operations = [\"++X\",\"X++\",\"--X\",\"X--\"]\n",
    "li = [\"++X\",\"X--\",\"--X\",]\n",
    "x = 0\n",
    "for i in li:\n",
    "    if i == \"++X\" or i == \"X++\":\n",
    "        x += 1\n",
    "    if i == \"--X\" or i ==\"X--\":\n",
    "        x -= 1\n",
    "\n",
    "print(x)"
   ]
  },
  {
   "cell_type": "code",
   "execution_count": 2,
   "id": "ed0b207e-66b8-40a9-b813-5dc3176350a4",
   "metadata": {},
   "outputs": [
    {
     "name": "stdout",
     "output_type": "stream",
     "text": [
      "1[.]1[.]1[.]1\n"
     ]
    }
   ],
   "source": [
    "#1011 Defanged IP adress\n",
    "\n",
    "s = \"1.1.1.1\"\n",
    "ans = \"\"\n",
    "for i in s:\n",
    "    if i == \".\":\n",
    "        ans = ans + \"[.]\"\n",
    "    else:\n",
    "        ans = ans + i\n",
    "        \n",
    "print(ans)"
   ]
  },
  {
   "cell_type": "code",
   "execution_count": 3,
   "id": "08691d96-92a4-4c67-bbc4-ed54af23ed3c",
   "metadata": {},
   "outputs": [
    {
     "name": "stdout",
     "output_type": "stream",
     "text": [
      "3\n"
     ]
    }
   ],
   "source": [
    "#771. Jewels and Stones\n",
    "\n",
    "jewels = \"abbBBB\"\n",
    "stones = \"abba\"\n",
    "ans = 0\n",
    "for i in range(len(jewels)):\n",
    "    chi = jewels[i]\n",
    "    for j in range(len(stones)):\n",
    "        chj = stones[j]\n",
    "        if chi == chj:\n",
    "            ans += 1\n",
    "            break\n",
    "\n",
    "print(ans)"
   ]
  },
  {
   "cell_type": "code",
   "execution_count": null,
   "id": "8249caca-d2c9-4d5d-9a18-6d9bb7b7dfe8",
   "metadata": {},
   "outputs": [],
   "source": []
  }
 ],
 "metadata": {
  "kernelspec": {
   "display_name": "Python 3 (ipykernel)",
   "language": "python",
   "name": "python3"
  },
  "language_info": {
   "codemirror_mode": {
    "name": "ipython",
    "version": 3
   },
   "file_extension": ".py",
   "mimetype": "text/x-python",
   "name": "python",
   "nbconvert_exporter": "python",
   "pygments_lexer": "ipython3",
   "version": "3.12.7"
  }
 },
 "nbformat": 4,
 "nbformat_minor": 5
}
