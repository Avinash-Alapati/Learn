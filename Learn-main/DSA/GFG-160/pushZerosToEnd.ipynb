{
 "cells": [
  {
   "cell_type": "code",
   "execution_count": null,
   "id": "7c3ed322-93c2-4672-a96c-3fbe84ff7052",
   "metadata": {},
   "outputs": [],
   "source": [
    "\"\"\" You are given an array arr[] of non-negative integers. Your task is to move all the zeros in the array to the right end while maintaining the relative order of the non-zero elements. The operation must be performed in place, meaning you should not use extra space for another array.\n",
    "\n",
    "Examples:\n",
    "\n",
    "Input: arr[] = [1, 2, 0, 4, 3, 0, 5, 0]\n",
    "Output: [1, 2, 4, 3, 5, 0, 0, 0]\n",
    "Explanation: There are three 0s that are moved to the end.\n",
    "Input: arr[] = [10, 20, 30]\n",
    "Output: [10, 20, 30]\n",
    "Explanation: No change in array as there are no 0s.\n",
    "Input: arr[] = [0, 0]\n",
    "Output: [0, 0]\n",
    "Explanation: No change in array as there are all 0s.\n",
    "Constraints:\n",
    "1 ≤ arr.size() ≤ 105\n",
    "0 ≤ arr[i] ≤ 105\n",
    "\n",
    "\"\"\"\n",
    "\n",
    "\n",
    "\n",
    "class Solution:\n",
    "\tdef pushZerosToEnd(self,arr):\n",
    "\t    count = 0\n",
    "\t    \n",
    "\t    for i in range(len(arr)):\n",
    "\t        if arr[i] != 0:\n",
    "\t            \n",
    "\t            arr[i] , arr[count] = arr[count] , arr[i]\n",
    "\t            \n",
    "\t            count +=1"
   ]
  }
 ],
 "metadata": {
  "kernelspec": {
   "display_name": "Python 3 (ipykernel)",
   "language": "python",
   "name": "python3"
  },
  "language_info": {
   "codemirror_mode": {
    "name": "ipython",
    "version": 3
   },
   "file_extension": ".py",
   "mimetype": "text/x-python",
   "name": "python",
   "nbconvert_exporter": "python",
   "pygments_lexer": "ipython3",
   "version": "3.12.7"
  }
 },
 "nbformat": 4,
 "nbformat_minor": 5
}
