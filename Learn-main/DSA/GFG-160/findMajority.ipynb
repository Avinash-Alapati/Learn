{
 "cells": [
  {
   "cell_type": "code",
   "execution_count": null,
   "id": "6d7506c1-2c5c-4ad9-9c07-5a4f878ef3f5",
   "metadata": {},
   "outputs": [],
   "source": [
    "\"\"\" Majority Element II\n",
    "Difficulty: MediumAccuracy: 48.1%Submissions: 131K+Points: 4Average Time: 15m\n",
    "You are given an array of integer arr[] where each number represents a vote to a candidate. Return the candidates that have votes greater than one-third of the total votes, If there's not a majority vote, return an empty array. \n",
    "\n",
    "Note: The answer should be returned in an increasing format.\n",
    "\n",
    "Examples:\n",
    "\n",
    "Input: arr[] = [2, 1, 5, 5, 5, 5, 6, 6, 6, 6, 6]\n",
    "Output: [5, 6]\n",
    "Explanation: 5 and 6 occur more n/3 times.\n",
    "Input: arr[] = [1, 2, 3, 4, 5]\n",
    "Output: []\n",
    "Explanation: o candidate occur more than n/3 times.\n",
    "Constraint:\n",
    "1 <= arr.size() <= 106\n",
    "-109 <= arr[i] <= 109 \"\"\""
   ]
  },
  {
   "cell_type": "code",
   "execution_count": null,
   "id": "3b0e8a6e-6e90-4ca5-8d73-ed639c0670d0",
   "metadata": {},
   "outputs": [],
   "source": [
    "class Solution:\n",
    "    # Function to find the majority elements in the array\n",
    "    def findMajority(self, arr):\n",
    "        n = len(arr)\n",
    "        freq = {}\n",
    "        res = []\n",
    "        \n",
    "        for ele in arr:\n",
    "            freq[ele] = freq.get(ele , 0) + 1\n",
    "            \n",
    "            \n",
    "        for ele , cnt in freq.items():\n",
    "            if cnt > n//3:\n",
    "                res.append(ele)\n",
    "                \n",
    "        if len(res) == 2 and res[0] > res[1]:\n",
    "            res[0] , res[1] = res[1] , res[0]\n",
    "            \n",
    "        return res"
   ]
  }
 ],
 "metadata": {
  "kernelspec": {
   "display_name": "Python 3 (ipykernel)",
   "language": "python",
   "name": "python3"
  },
  "language_info": {
   "codemirror_mode": {
    "name": "ipython",
    "version": 3
   },
   "file_extension": ".py",
   "mimetype": "text/x-python",
   "name": "python",
   "nbconvert_exporter": "python",
   "pygments_lexer": "ipython3",
   "version": "3.12.7"
  }
 },
 "nbformat": 4,
 "nbformat_minor": 5
}
