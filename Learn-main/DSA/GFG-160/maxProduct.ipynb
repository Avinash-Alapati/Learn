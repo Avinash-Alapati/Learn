{
 "cells": [
  {
   "cell_type": "code",
   "execution_count": null,
   "id": "1914d3b3-17ca-420f-ba8a-2fecb7abc32e",
   "metadata": {},
   "outputs": [],
   "source": [
    "\"\"\" Maximum Product Subarray\n",
    "Difficulty: MediumAccuracy: 18.09%Submissions: 437K+Points: 4\n",
    "Given an array arr[] that contains positive and negative integers (may contain 0 as well). Find the maximum product that we can get in a subarray of arr[].\n",
    "\n",
    "Note: It is guaranteed that the output fits in a 32-bit integer.\n",
    "\n",
    "Examples\n",
    "\n",
    "Input: arr[] = [-2, 6, -3, -10, 0, 2]\n",
    "Output: 180\n",
    "Explanation: The subarray with maximum product is {6, -3, -10} with product = 6 * (-3) * (-10) = 180.\n",
    "Input: arr[] = [-1, -3, -10, 0, 6]\n",
    "Output: 30\n",
    "Explanation: The subarray with maximum product is {-3, -10} with product = (-3) * (-10) = 30.\n",
    "Input: arr[] = [2, 3, 4] \n",
    "Output: 24 \n",
    "Explanation: For an array with all positive elements, the result is product of all elements. \n",
    "Constraints:\n",
    "1 ≤ arr.size() ≤ 106\n",
    "-10  ≤  arr[i]  ≤  10\"\"\""
   ]
  },
  {
   "cell_type": "code",
   "execution_count": null,
   "id": "a600da01-2764-4cc5-b9b0-62b50d4859ba",
   "metadata": {},
   "outputs": [],
   "source": [
    "class Solution:\n",
    "\tdef maxProduct(self,arr):\n",
    "\t    n = len(arr)\n",
    "\t    \n",
    "\t    max_ending_here = arr[0]\n",
    "\t    min_ending_here = arr[0]\n",
    "\t    result = arr[0]\n",
    "\t    \n",
    "\t    \n",
    "\t    for i in range(1,n):\n",
    "\t        curr = arr[i]\n",
    "\t        \n",
    "\t        temp_max = max_ending_here\n",
    "\t        \n",
    "\t        max_ending_here = max(curr , curr * max_ending_here, curr *min_ending_here)\n",
    "\t        min_ending_here = min(curr , curr * temp_max , curr *min_ending_here)\n",
    "\t        \n",
    "\t        result = max(result,max_ending_here)\n",
    "\t        \n",
    "\t        \n",
    "        return result"
   ]
  }
 ],
 "metadata": {
  "kernelspec": {
   "display_name": "Python 3 (ipykernel)",
   "language": "python",
   "name": "python3"
  },
  "language_info": {
   "codemirror_mode": {
    "name": "ipython",
    "version": 3
   },
   "file_extension": ".py",
   "mimetype": "text/x-python",
   "name": "python",
   "nbconvert_exporter": "python",
   "pygments_lexer": "ipython3",
   "version": "3.12.7"
  }
 },
 "nbformat": 4,
 "nbformat_minor": 5
}
