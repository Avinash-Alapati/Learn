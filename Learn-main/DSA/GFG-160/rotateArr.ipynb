{
 "cells": [
  {
   "cell_type": "code",
   "execution_count": null,
   "id": "c54ddfcd-9c22-46be-ae0a-91a125824c5f",
   "metadata": {},
   "outputs": [],
   "source": [
    "\"\"\"  left = 0\n",
    "            right = d - 1\n",
    "            while left < right:\n",
    "                arr[left] , arr[right] = arr[right] , arr[left]\n",
    "                left +=1\n",
    "                right -= 1\n",
    "            \n",
    "            left = d\n",
    "            right = n - 1\n",
    "            while left < right:\n",
    "                arr[left] , arr[right] = arr[right] , arr[left]\n",
    "                left +=1\n",
    "                right -= 1\n",
    "                \n",
    "\n",
    "            left = 0\n",
    "            right = n - 1\n",
    "            while left < right:\n",
    "                arr[left] , arr[right] = arr[right] , arr[left]\n",
    "                left += 1\n",
    "                right -= 1\n",
    "\n",
    "            return arr\n",
    "            "
   ]
  },
  {
   "cell_type": "code",
   "execution_count": 20,
   "id": "d3df202d-6203-41f8-b5f5-3d89d2b12fcd",
   "metadata": {},
   "outputs": [
    {
     "name": "stdout",
     "output_type": "stream",
     "text": [
      "[3, 4, 5, 1, 2]\n"
     ]
    }
   ],
   "source": [
    "n = len(arr)\n",
    "arr = [1,2,3,4,5]\n",
    "d = d %n\n",
    "\n",
    "left = 0\n",
    "right = d - 1\n",
    "while left < right:\n",
    "    arr[left] , arr[right] = arr[right] , arr[left]\n",
    "    left +=1\n",
    "    right -= 1\n",
    "\n",
    "left = d\n",
    "right = n - 1\n",
    "while left < right:\n",
    "    arr[left] , arr[right] = arr[right] , arr[left]\n",
    "    left +=1\n",
    "    right -= 1\n",
    "\n",
    "left = 0\n",
    "right = n - 1\n",
    "while left < right:\n",
    "    arr[left] , arr[right] = arr[right] , arr[left]\n",
    "    left += 1\n",
    "    right -= 1\n",
    "print(arr)          "
   ]
  },
  {
   "cell_type": "code",
   "execution_count": null,
   "id": "03e6173b-4992-4ea0-b8bc-3fe1b314db26",
   "metadata": {},
   "outputs": [],
   "source": []
  }
 ],
 "metadata": {
  "kernelspec": {
   "display_name": "Python 3 (ipykernel)",
   "language": "python",
   "name": "python3"
  },
  "language_info": {
   "codemirror_mode": {
    "name": "ipython",
    "version": 3
   },
   "file_extension": ".py",
   "mimetype": "text/x-python",
   "name": "python",
   "nbconvert_exporter": "python",
   "pygments_lexer": "ipython3",
   "version": "3.12.7"
  }
 },
 "nbformat": 4,
 "nbformat_minor": 5
}
