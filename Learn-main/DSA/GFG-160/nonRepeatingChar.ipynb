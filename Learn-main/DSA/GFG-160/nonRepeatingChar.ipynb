{
 "cells": [
  {
   "cell_type": "code",
   "execution_count": null,
   "id": "f3b6f2f4-1871-4d55-ba94-226130776b6e",
   "metadata": {},
   "outputs": [],
   "source": [
    "\"\"\" Non Repeating Character\n",
    "Difficulty: EasyAccuracy: 40.43%Submissions: 280K+Points: 2Average Time: 30m\n",
    "Given a string s consisting of lowercase English Letters. Return the first non-repeating character in s.\n",
    "If there is no non-repeating character, return '$'.\n",
    "Note: When you return '$' driver code will output -1.\n",
    "\n",
    "Examples:\n",
    "\n",
    "Input: s = \"geeksforgeeks\"\n",
    "Output: 'f'\n",
    "Explanation: In the given string, 'f' is the first character in the string which does not repeat.\n",
    "Input: s = \"racecar\"\n",
    "Output: 'e'\n",
    "Explanation: In the given string, 'e' is the only character in the string which does not repeat.\n",
    "Input: s = \"aabbccc\"\n",
    "Output: -1\n",
    "Explanation: All the characters in the given string are repeating.\n",
    "Constraints:\n",
    "1 ≤ s.size() ≤ 105\n",
    "\n",
    "Expected Complexities\n",
    "Company Tags\n",
    "FlipkartAmazonMicrosoftD-E-ShawMakeMyTripOla CabsPayuTeradataGoldman SachsMAQ SoftwareInfoEdgeOATS SystemsTejas Network\"\"\""
   ]
  },
  {
   "cell_type": "code",
   "execution_count": null,
   "id": "991cfb01-63cc-48ad-a6ad-dc84adbf6a6e",
   "metadata": {},
   "outputs": [],
   "source": [
    "class Solution:\n",
    "    def nonRepeatingChar(self,s):\n",
    "        MAX_CHAR = 26\n",
    "        freq = [0] * MAX_CHAR\n",
    "        \n",
    "        \n",
    "        for c in s:\n",
    "            freq[ord(c) - ord('a')] += 1\n",
    "        \n",
    "        for c in s:\n",
    "            if freq[ord(c) - ord('a')] == 1:\n",
    "                return c\n",
    "                \n",
    "        return '$'"
   ]
  }
 ],
 "metadata": {
  "kernelspec": {
   "display_name": "Python 3 (ipykernel)",
   "language": "python",
   "name": "python3"
  },
  "language_info": {
   "codemirror_mode": {
    "name": "ipython",
    "version": 3
   },
   "file_extension": ".py",
   "mimetype": "text/x-python",
   "name": "python",
   "nbconvert_exporter": "python",
   "pygments_lexer": "ipython3",
   "version": "3.12.7"
  }
 },
 "nbformat": 4,
 "nbformat_minor": 5
}
