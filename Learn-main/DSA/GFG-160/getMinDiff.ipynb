{
 "cells": [
  {
   "cell_type": "code",
   "execution_count": null,
   "id": "3f680ea8-09d3-43ae-bf8f-46975f097a82",
   "metadata": {},
   "outputs": [],
   "source": [
    "\"\"\" Minimize the Heights II\n",
    "Difficulty: MediumAccuracy: 15.06%Submissions: 682K+Points: 4Average Time: 25m\n",
    "Given an array arr[] denoting heights of N towers and a positive integer K.\n",
    "\n",
    "For each tower, you must perform exactly one of the following operations exactly once.\n",
    "\n",
    "Increase the height of the tower by K\n",
    "Decrease the height of the tower by K\n",
    "Find out the minimum possible difference between the height of the shortest and tallest towers after you have modified each tower.\n",
    "\n",
    "You can find a slight modification of the problem here.\n",
    "Note: It is compulsory to increase or decrease the height by K for each tower. After the operation, the resultant array should not contain any negative integers.\n",
    "\n",
    "Examples :\n",
    "\n",
    "Input: k = 2, arr[] = {1, 5, 8, 10}\n",
    "Output: 5\n",
    "Explanation: The array can be modified as {1+k, 5-k, 8-k, 10-k} = {3, 3, 6, 8}.The difference between the largest and the smallest is 8-3 = 5.\n",
    "Input: k = 3, arr[] = {3, 9, 12, 16, 20}\n",
    "Output: 11\n",
    "Explanation: The array can be modified as {3+k, 9+k, 12-k, 16-k, 20-k} -> {6, 12, 9, 13, 17}.The difference between the largest and the smallest is 17-6 = 11. \n",
    "Constraints\n",
    "1 ≤ k ≤ 107\n",
    "1 ≤ n ≤ 105\n",
    "1 ≤ arr[i] ≤ 107\n",
    "\n",
    "\"\"\""
   ]
  },
  {
   "cell_type": "code",
   "execution_count": null,
   "id": "be70cb83-c8c6-4078-8667-6b3146dc30cc",
   "metadata": {},
   "outputs": [],
   "source": [
    "class Solution:\n",
    "    def getMinDiff(self, arr,k):\n",
    "        arr.sort()\n",
    "        n = len(arr)\n",
    "        ans = arr[n-1] - arr[0]\n",
    "        \n",
    "        for i in range(1,n):\n",
    "            if arr[i] - k < 0:\n",
    "                continue\n",
    "            \n",
    "            max_height = max(arr[i-1] + k , arr[n-1] - k )\n",
    "            min_height = min(arr[0] + k, arr[i] - k)\n",
    "            \n",
    "            ans = min(ans , max_height - min_height)\n",
    "            \n",
    "            \n",
    "        return ans"
   ]
  }
 ],
 "metadata": {
  "kernelspec": {
   "display_name": "Python 3 (ipykernel)",
   "language": "python",
   "name": "python3"
  },
  "language_info": {
   "codemirror_mode": {
    "name": "ipython",
    "version": 3
   },
   "file_extension": ".py",
   "mimetype": "text/x-python",
   "name": "python",
   "nbconvert_exporter": "python",
   "pygments_lexer": "ipython3",
   "version": "3.12.7"
  }
 },
 "nbformat": 4,
 "nbformat_minor": 5
}
