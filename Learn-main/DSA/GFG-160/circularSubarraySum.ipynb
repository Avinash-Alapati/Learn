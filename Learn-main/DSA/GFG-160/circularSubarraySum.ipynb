{
 "cells": [
  {
   "cell_type": "code",
   "execution_count": null,
   "id": "e7a979fa-ebb6-4d7c-a962-203fdab8fc38",
   "metadata": {},
   "outputs": [],
   "source": [
    "\"\"\"  Max Circular Subarray Sum\n",
    "Difficulty: HardAccuracy: 29.37%Submissions: 149K+Points: 8Average Time: 25m\n",
    "Given an array of integers arr[] in a circular fashion. Find the maximum subarray sum that we can get if we assume the array to be circular.\n",
    "\n",
    "Examples:\n",
    "\n",
    "Input: arr[] = [8, -8, 9, -9, 10, -11, 12]\n",
    "Output: 22\n",
    "Explanation: Starting from the last element of the array, i.e, 12, and moving in a circular fashion, we have max subarray as 12, 8, -8, 9, -9, 10, which gives maximum sum as 22.\n",
    "Input: arr[] = [10, -3, -4, 7, 6, 5, -4, -1]\n",
    "Output: 23\n",
    "Explanation: Maximum sum of the circular subarray is 23. The subarray is [7, 6, 5, -4, -1, 10].\n",
    "Input: arr[] = [-1, 40, -14, 7, 6, 5, -4, -1] \n",
    "Output: 52\n",
    "Explanation: Circular Subarray [7, 6, 5, -4, -1, -1, 40] has the maximum sum, which is 52.\n",
    "Constraints:\n",
    "1 <= arr.size() <= 105\n",
    "-104 <= arr[i] <= 104\n",
    "\n",
    "\"\"\""
   ]
  },
  {
   "cell_type": "code",
   "execution_count": null,
   "id": "4bc8cbf2-8fe3-41b5-8c00-a3dc2f18f319",
   "metadata": {},
   "outputs": [],
   "source": [
    "def circularSubarraySum(arr):\n",
    "    total = sum(arr)\n",
    "    max_kadane = curr = arr[0]\n",
    "    min_kadane = min_curr = arr[0]\n",
    "    \n",
    "    \n",
    "    for x in arr[1:]:\n",
    "        curr = max(x,curr+x)\n",
    "        max_kadane = max(max_kadane,curr)\n",
    "        min_curr = min(x,min_curr+x)\n",
    "        min_kadane = min(min_kadane,min_curr)\n",
    "        \n",
    "        \n",
    "    return max_kadane if max_kadane < 0 else max(max_kadane,total-min_kadane)"
   ]
  }
 ],
 "metadata": {
  "kernelspec": {
   "display_name": "Python 3 (ipykernel)",
   "language": "python",
   "name": "python3"
  },
  "language_info": {
   "codemirror_mode": {
    "name": "ipython",
    "version": 3
   },
   "file_extension": ".py",
   "mimetype": "text/x-python",
   "name": "python",
   "nbconvert_exporter": "python",
   "pygments_lexer": "ipython3",
   "version": "3.12.7"
  }
 },
 "nbformat": 4,
 "nbformat_minor": 5
}
