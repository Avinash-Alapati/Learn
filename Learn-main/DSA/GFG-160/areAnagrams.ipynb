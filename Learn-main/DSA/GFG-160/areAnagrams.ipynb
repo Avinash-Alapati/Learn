{
 "cells": [
  {
   "cell_type": "code",
   "execution_count": null,
   "id": "f514e35c-bbc8-4cdf-a287-8bc94b4f7ebc",
   "metadata": {},
   "outputs": [],
   "source": [
    "\"\"\" Anagram\n",
    "Difficulty: EasyAccuracy: 44.93%Submissions: 391K+Points: 2Average Time: 20m\n",
    "Given two strings s1 and s2 consisting of lowercase characters. The task is to check whether two given strings are an anagram of each other or not. An anagram of a string is another string that contains the same characters, only the order of characters can be different. For example, \"act\" and \"tac\" are an anagram of each other. Strings s1 and s2 can only contain lowercase alphabets.\n",
    "\n",
    "Note: You can assume both the strings s1 & s2 are non-empty.\n",
    "\n",
    "Examples :\n",
    "\n",
    "Input: s1 = \"geeks\", s2 = \"kseeg\"\n",
    "Output: true\n",
    "Explanation: Both the string have same characters with same frequency. So, they are anagrams.\n",
    "Input: s1 = \"allergy\", s2 = \"allergic\"\n",
    "Output: false\n",
    "Explanation: Characters in both the strings are not same, so they are not anagrams.\n",
    "Input: s1 = \"g\", s2 = \"g\"\n",
    "Output: true\n",
    "Explanation: Character in both the strings are same, so they are anagrams.\n",
    "Constraints:\n",
    "1 ≤ s1.size(), s2.size() ≤ 105 \"\"\""
   ]
  },
  {
   "cell_type": "code",
   "execution_count": null,
   "id": "1a99ee0a-99d8-4143-b87d-dffbdb8cf4c6",
   "metadata": {},
   "outputs": [],
   "source": [
    "class Solution:\n",
    "    \n",
    "    #Function is to check whether two strings are anagram of each other or not.\n",
    "    def areAnagrams(self, s1, s2):\n",
    "        if len(s1) != len(s2):\n",
    "            return False\n",
    "            \n",
    "        freq1 = [0] * 26\n",
    "        freq2 = [0] * 26\n",
    "        \n",
    "        for ch1 , ch2 in zip(s1,s2):\n",
    "            freq1[ord(ch1) - ord('a')] += 1\n",
    "            freq2[ord(ch2) - ord('a')] += 1\n",
    "            \n",
    "            \n",
    "        return freq1 == freq2"
   ]
  }
 ],
 "metadata": {
  "kernelspec": {
   "display_name": "Python 3 (ipykernel)",
   "language": "python",
   "name": "python3"
  },
  "language_info": {
   "codemirror_mode": {
    "name": "ipython",
    "version": 3
   },
   "file_extension": ".py",
   "mimetype": "text/x-python",
   "name": "python",
   "nbconvert_exporter": "python",
   "pygments_lexer": "ipython3",
   "version": "3.12.7"
  }
 },
 "nbformat": 4,
 "nbformat_minor": 5
}
