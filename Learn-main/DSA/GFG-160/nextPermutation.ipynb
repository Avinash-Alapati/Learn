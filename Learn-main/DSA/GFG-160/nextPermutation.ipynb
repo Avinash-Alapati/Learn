{
 "cells": [
  {
   "cell_type": "code",
   "execution_count": null,
   "id": "5d223bee-66aa-4428-bafa-4f27c0f234cb",
   "metadata": {},
   "outputs": [],
   "source": [
    "\"\"\"  \n",
    "Given an array of integers arr[] representing a permutation, implement the next permutation that rearranges the numbers into the lexicographically next greater permutation. If no such permutation exists, rearrange the numbers into the lowest possible order (i.e., sorted in ascending order). \n",
    "\n",
    "Note - A permutation of an array of integers refers to a specific arrangement of its elements in a sequence or linear order.\n",
    "\n",
    "Examples:\n",
    "\n",
    "Input: arr = [2, 4, 1, 7, 5, 0]\n",
    "Output: [2, 4, 5, 0, 1, 7]\n",
    "Explanation: The next permutation of the given array is {2, 4, 5, 0, 1, 7}.\n",
    "Input: arr = [3, 2, 1]\n",
    "Output: [1, 2, 3]\n",
    "Explanation: As arr[] is the last permutation, the next permutation is the lowest one.\n",
    "Input: arr = [3, 4, 2, 5, 1]\n",
    "Output: [3, 4, 5, 1, 2]\n",
    "Explanation: The next permutation of the given array is {3, 4, 5, 1, 2}.\n",
    "Constraints:\n",
    "1 ≤ arr.size() ≤ 105\n",
    "0 ≤ arr[i] ≤ 105\n",
    "\n",
    "\n",
    "\n",
    "\"\"\""
   ]
  },
  {
   "cell_type": "code",
   "execution_count": null,
   "id": "634630d2-4640-49fe-b285-4b8af18b1e2b",
   "metadata": {},
   "outputs": [],
   "source": [
    "class Solution:\n",
    "    def nextPermutation(self, arr):\n",
    "        n = len(arr)\n",
    "        pivot = -1\n",
    "        for i in range(n-2,-1,-1):\n",
    "            if arr[i] < arr[i+1]:\n",
    "                pivot = i\n",
    "                break\n",
    "            \n",
    "        if pivot == -1:\n",
    "            arr.reverse()\n",
    "            return\n",
    "        \n",
    "        \n",
    "        for i in range(n-1 , pivot,-1):\n",
    "            if arr[i] > arr[pivot]:\n",
    "                arr[i] , arr[pivot] = arr[pivot] , arr[i]\n",
    "                \n",
    "                break\n",
    "            \n",
    "            \n",
    "        left , right = pivot+1 , n-1\n",
    "        \n",
    "        while left < right:\n",
    "            arr[left] , arr[right] = arr[right] , arr[left]\n",
    "            \n",
    "            left +=1\n",
    "            right -=1"
   ]
  }
 ],
 "metadata": {
  "kernelspec": {
   "display_name": "Python 3 (ipykernel)",
   "language": "python",
   "name": "python3"
  },
  "language_info": {
   "codemirror_mode": {
    "name": "ipython",
    "version": 3
   },
   "file_extension": ".py",
   "mimetype": "text/x-python",
   "name": "python",
   "nbconvert_exporter": "python",
   "pygments_lexer": "ipython3",
   "version": "3.12.7"
  }
 },
 "nbformat": 4,
 "nbformat_minor": 5
}
