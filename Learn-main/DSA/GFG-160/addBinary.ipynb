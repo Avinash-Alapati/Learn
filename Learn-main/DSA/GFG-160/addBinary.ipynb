{
 "cells": [
  {
   "cell_type": "code",
   "execution_count": null,
   "id": "a5efd530-1f25-4b73-8a90-dbe2f50ee3f9",
   "metadata": {},
   "outputs": [],
   "source": [
    "\"\"\" Add Binary Strings\n",
    "Difficulty: MediumAccuracy: 23.25%Submissions: 97K+Points: 4\n",
    "Given two binary strings s1 and s2 consisting of only 0s and 1s. Find the resultant string after adding the two Binary Strings.\n",
    "Note: The input strings may contain leading zeros but the output string should not have any leading zeros.\n",
    "\n",
    "Input: s1 = \"1101\", s2 = \"111\"\n",
    "Output: 10100\n",
    "Explanation:\n",
    " 1101\n",
    "+ 111\n",
    "10100\n",
    "Input: s1 = \"00100\", s2 = \"010\"\n",
    "Output: 110\n",
    "Explanation: \n",
    "  100\n",
    "+  10\n",
    "  110\n",
    "Constraints:\n",
    "1 ≤s1.size(), s2.size()≤ 106\"\"\"\n"
   ]
  },
  {
   "cell_type": "code",
   "execution_count": null,
   "id": "3a8f711e-fb63-491e-a3fe-a672d4e03404",
   "metadata": {},
   "outputs": [],
   "source": [
    "class Solution:\n",
    "\tdef addBinary(self, s1, s2):\n",
    "\t    num1 = int(s1,2)\n",
    "\t    num2 = int(s2,2)\n",
    "\t    \n",
    "\t    \n",
    "\t    total = num1+num2\n",
    "\t    \n",
    "\t    result = bin(total)[2:]\n",
    "\t    \n",
    "\t    return result"
   ]
  }
 ],
 "metadata": {
  "kernelspec": {
   "display_name": "Python 3 (ipykernel)",
   "language": "python",
   "name": "python3"
  },
  "language_info": {
   "codemirror_mode": {
    "name": "ipython",
    "version": 3
   },
   "file_extension": ".py",
   "mimetype": "text/x-python",
   "name": "python",
   "nbconvert_exporter": "python",
   "pygments_lexer": "ipython3",
   "version": "3.12.7"
  }
 },
 "nbformat": 4,
 "nbformat_minor": 5
}
