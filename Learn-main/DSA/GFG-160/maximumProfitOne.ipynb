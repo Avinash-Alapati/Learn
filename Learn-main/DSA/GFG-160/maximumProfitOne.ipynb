{
 "cells": [
  {
   "cell_type": "code",
   "execution_count": null,
   "id": "4e09fd21-e934-460c-9d67-7f1b1bac2938",
   "metadata": {},
   "outputs": [],
   "source": [
    "\"\"\"      Stock Buy and Sell – Max one Transaction Allowed\n",
    "Difficulty: EasyAccuracy: 49.33%Submissions: 71K+Points: 2Average Time: 10m\n",
    "Given an array prices[] of length n, representing the prices of the stocks on different days. The task is to find the maximum profit possible by buying and selling the stocks on different days when at most one transaction is allowed. Here one transaction means 1 buy + 1 Sell. If it is not possible to make a profit then return 0.\n",
    "\n",
    "Note: Stock must be bought before being sold.\n",
    "\n",
    "Examples:\n",
    "\n",
    "Input: prices[] = [7, 10, 1, 3, 6, 9, 2]\n",
    "Output: 8\n",
    "Explanation: You can buy the stock on day 2 at price = 1 and sell it on day 5 at price = 9. Hence, the profit is 8.\n",
    "Input: prices[] = [7, 6, 4, 3, 1]\n",
    "Output: 0 \n",
    "Explanation: Here the prices are in decreasing order, hence if we buy any day then we cannot sell it at a greater price. Hence, the answer is 0.\n",
    "Input: prices[] = [1, 3, 6, 9, 11]\n",
    "Output: 10 \n",
    "Explanation: Since the array is sorted in increasing order, we can make maximum profit by buying at price[0] and selling at price[n-1].\n",
    "Constraint:\n",
    "1 <= prices.size()<= 105\n",
    "0 <= prices[i] <=104\"\"\""
   ]
  },
  {
   "cell_type": "code",
   "execution_count": null,
   "id": "53b51755-994c-46fd-a5b6-9d59cd616de3",
   "metadata": {},
   "outputs": [],
   "source": [
    "class Solution:\n",
    "    def maximumProfit(self, prices):\n",
    "        n = len(prices)\n",
    "        min_price = 100000000009000\n",
    "        max_price = 0\n",
    "        profit = 0\n",
    "        for i in range(n):\n",
    "            current_price = prices[i]\n",
    "            min_price = min(min_price,current_price)\n",
    "            profit = max(profit,current_price - min_price)\n",
    "            \n",
    "        return profit"
   ]
  }
 ],
 "metadata": {
  "kernelspec": {
   "display_name": "Python 3 (ipykernel)",
   "language": "python",
   "name": "python3"
  },
  "language_info": {
   "codemirror_mode": {
    "name": "ipython",
    "version": 3
   },
   "file_extension": ".py",
   "mimetype": "text/x-python",
   "name": "python",
   "nbconvert_exporter": "python",
   "pygments_lexer": "ipython3",
   "version": "3.12.7"
  }
 },
 "nbformat": 4,
 "nbformat_minor": 5
}
