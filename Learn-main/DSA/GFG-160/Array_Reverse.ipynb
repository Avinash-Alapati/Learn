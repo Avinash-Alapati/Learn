{
 "cells": [
  {
   "cell_type": "code",
   "execution_count": null,
   "id": "a388b5de-9558-4e0c-b1ca-c0a17aae9085",
   "metadata": {},
   "outputs": [],
   "source": [
    "# Reversing an ARRAY\n",
    "\n",
    "\"\"\" You are given an array of integers arr[]. Your task is to reverse the given array.\n",
    "\n",
    "Note: Modify the array in place.\n",
    "\n",
    "Examples:\n",
    "\n",
    "Input: arr = [1, 4, 3, 2, 6, 5]\n",
    "Output: [5, 6, 2, 3, 4, 1]\n",
    "Explanation: The elements of the array are 1 4 3 2 6 5. After reversing the array, the first element goes to the last position, the second element goes to the second last position and so on. Hence, the answer is 5 6 2 3 4 1.\n",
    "Input: arr = [4, 5, 2]\n",
    "Output: [2, 5, 4]\n",
    "Explanation: The elements of the array are 4 5 2. The reversed array will be 2 5 4.\n",
    "Input: arr = [1]\n",
    "Output: [1]\n",
    "Explanation: The array has only single element, hence the reversed array is same as the original.\n",
    "Constraints:\n",
    "1<=arr.size()<=105\n",
    "0<=arr[i]<=105\n",
    "\n",
    "\"\"\"\n",
    "class Solution:\n",
    "    def reverseArray(self, arr):\n",
    "        left = 0\n",
    "        right = len(arr) -1 \n",
    "        \n",
    "        while left < right:\n",
    "            \n",
    "            arr[left] , arr[right] = arr[right] , arr[left]\n",
    "            \n",
    "            left +=1\n",
    "            right -=1\n",
    "            \n",
    "\n",
    "\n",
    "\n"
   ]
  },
  {
   "cell_type": "code",
   "execution_count": null,
   "id": "12acea1a-ede2-4067-bffb-97db0e17da17",
   "metadata": {},
   "outputs": [],
   "source": []
  }
 ],
 "metadata": {
  "kernelspec": {
   "display_name": "Python 3 (ipykernel)",
   "language": "python",
   "name": "python3"
  },
  "language_info": {
   "codemirror_mode": {
    "name": "ipython",
    "version": 3
   },
   "file_extension": ".py",
   "mimetype": "text/x-python",
   "name": "python",
   "nbconvert_exporter": "python",
   "pygments_lexer": "ipython3",
   "version": "3.12.7"
  }
 },
 "nbformat": 4,
 "nbformat_minor": 5
}
