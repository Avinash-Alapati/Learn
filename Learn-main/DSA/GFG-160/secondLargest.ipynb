{
 "cells": [
  {
   "cell_type": "code",
   "execution_count": 1,
   "id": "c7cb8be0-e7b7-4f83-822f-042dbd318885",
   "metadata": {},
   "outputs": [],
   "source": [
    "# GFG - !60 days dsa challenge - Day -1 !!!\n",
    "\n",
    "''' Given an array of positive integers arr[], return the second largest element from the array. If the second largest element doesn't exist then return -1.\n",
    "s\n",
    "Note: The second largest element should not be equal to the largest element.\n",
    "\n",
    "Examples:\n",
    "\n",
    "Input: arr[] = [12, 35, 1, 10, 34, 1]\n",
    "Output: 34\n",
    "Explanation: The largest element of the array is 35 and the second largest element is 34.\n",
    "Input: arr[] = [10, 5, 10]\n",
    "Output: 5\n",
    "Explanation: The largest element of the array is 10 and the second largest element is 5.\n",
    "Input: arr[] = [10, 10, 10]\n",
    "Output: -1\n",
    "Explanation: The largest element of the array is 10 and the second largest element does not exist.\n",
    "Constraints:\n",
    "2 ≤ arr.size() ≤ 105\n",
    "1 ≤ arr[i] ≤ 105 '''\n",
    "\n",
    "\n",
    "\n",
    "def getSecondLargest(self, arr):\n",
    "        n = len(arr)\n",
    "        \n",
    "        largest = -1\n",
    "        SecondLargest = -1 \n",
    "        \n",
    "        for i in range(n):\n",
    "            if arr[i] > largest:\n",
    "                secondLargest = largest\n",
    "                largest = arr[i]\n",
    "                \n",
    "                \n",
    "            elif arr[i] < largest and arr[i] > secondLargest:\n",
    "                secondLargest = arr[i]\n",
    "                \n",
    "        return secondLargest "
   ]
  },
  {
   "cell_type": "code",
   "execution_count": null,
   "id": "a540584c-515d-48e6-a320-c02c59c5e297",
   "metadata": {},
   "outputs": [],
   "source": []
  }
 ],
 "metadata": {
  "kernelspec": {
   "display_name": "Python 3 (ipykernel)",
   "language": "python",
   "name": "python3"
  },
  "language_info": {
   "codemirror_mode": {
    "name": "ipython",
    "version": 3
   },
   "file_extension": ".py",
   "mimetype": "text/x-python",
   "name": "python",
   "nbconvert_exporter": "python",
   "pygments_lexer": "ipython3",
   "version": "3.12.7"
  }
 },
 "nbformat": 4,
 "nbformat_minor": 5
}
