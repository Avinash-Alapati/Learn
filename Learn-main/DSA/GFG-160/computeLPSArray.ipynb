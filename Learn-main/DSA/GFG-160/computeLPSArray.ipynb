{
 "cells": [
  {
   "cell_type": "code",
   "execution_count": null,
   "id": "fffe56e1-a310-4b49-a233-11af38c793a0",
   "metadata": {},
   "outputs": [],
   "source": [
    "\"\"\" Search Pattern (KMP-Algorithm)\n",
    "Difficulty: HardAccuracy: 45.04%Submissions: 106K+Points: 8\n",
    "Given two strings, one is a text string txt and the other is a pattern string pat. The task is to print the indexes of all the occurrences of the pattern string in the text string. Use 0-based indexing while returning the indices. \n",
    "Note: Return an empty list in case of no occurrences of pattern.\n",
    "\n",
    "Examples :\n",
    "\n",
    "Input: txt = \"abcab\", pat = \"ab\"\n",
    "Output: [0, 3]\n",
    "Explanation: The string \"ab\" occurs twice in txt, one starts at index 0 and the other at index 3. \n",
    "Input: txt = \"abesdu\", pat = \"edu\"\n",
    "Output: []\n",
    "Explanation: There's no substring \"edu\" present in txt.\n",
    "Input: txt = \"aabaacaadaabaaba\", pat = \"aaba\"\n",
    "Output: [0, 9, 12]\n",
    "Explanation:\n",
    "\n",
    "Constraints:\n",
    "1 ≤ txt.size() ≤ 106\n",
    "1 ≤ pat.size() < txt.size()\n",
    "Both the strings consist of lowercase English alphabets.\"\"\""
   ]
  },
  {
   "cell_type": "code",
   "execution_count": null,
   "id": "c71b2ba9-9609-45cb-b7e4-87f16a8194fe",
   "metadata": {},
   "outputs": [],
   "source": [
    "class Solution:\n",
    "    def computeLPSArray(self,pat):\n",
    "        lps = [0] * len(pat)\n",
    "        length  = 0\n",
    "        i = 1\n",
    "        \n",
    "        while i < len(pat):\n",
    "            if pat[i] == pat[length]:\n",
    "                length += 1\n",
    "                lps[i] =length\n",
    "                i += 1\n",
    "            \n",
    "            else:\n",
    "                if length != 0:\n",
    "                    length = lps[length -1]\n",
    "                    \n",
    "                else:\n",
    "                    lps[i] = 0\n",
    "                    i += 1\n",
    "                    \n",
    "        return lps\n",
    "    def search(self, pat, txt):\n",
    "        m = len(pat)\n",
    "        n = len(txt)\n",
    "        lps = self.computeLPSArray(pat)\n",
    "        result = []\n",
    "        \n",
    "        i = 0\n",
    "        j = 0\n",
    "        while i < n:\n",
    "            if pat[j] == txt[i]:\n",
    "                i += 1\n",
    "                j += 1\n",
    "                \n",
    "            if j ==m:\n",
    "                result.append(i-j)\n",
    "                j = lps[j-1]\n",
    "                \n",
    "            elif i < n and pat[j] != txt[i]:\n",
    "                if j != 0:\n",
    "                    j = lps[j-1]\n",
    "                else:\n",
    "                    i += 1\n",
    "        return result"
   ]
  }
 ],
 "metadata": {
  "kernelspec": {
   "display_name": "Python 3 (ipykernel)",
   "language": "python",
   "name": "python3"
  },
  "language_info": {
   "codemirror_mode": {
    "name": "ipython",
    "version": 3
   },
   "file_extension": ".py",
   "mimetype": "text/x-python",
   "name": "python",
   "nbconvert_exporter": "python",
   "pygments_lexer": "ipython3",
   "version": "3.12.7"
  }
 },
 "nbformat": 4,
 "nbformat_minor": 5
}
