{
 "cells": [
  {
   "cell_type": "code",
   "execution_count": null,
   "id": "a6172968-794f-4a73-bfd9-60a204ee7048",
   "metadata": {},
   "outputs": [],
   "source": [
    "\"\"\" Kadane's Algorithm\n",
    "Difficulty: MediumAccuracy: 36.28%Submissions: 1.1MPoints: 4Average Time: 20m\n",
    "Given an integer array arr[]. You need to find the maximum sum of a subarray.\n",
    "\n",
    "Examples:\n",
    "\n",
    "Input: arr[] = [2, 3, -8, 7, -1, 2, 3]\n",
    "Output: 11\n",
    "Explanation: The subarray {7, -1, 2, 3} has the largest sum 11.\n",
    "Input: arr[] = [-2, -4]\n",
    "Output: -2\n",
    "Explanation: The subarray {-2} has the largest sum -2.\n",
    "Input: arr[] = [5, 4, 1, 7, 8]\n",
    "Output: 25\n",
    "Explanation: The subarray {5, 4, 1, 7, 8} has the largest sum 25.\n",
    "Constraints:\n",
    "1 ≤ arr.size() ≤ 105\n",
    "-109 ≤ arr[i] ≤ 104\n",
    "\n",
    "Company Tags\n",
    "Zoho\n",
    "Flipkart\n",
    "Morgan Stanley\n",
    "Accolite\n",
    "Amazon\n",
    "Microsoft\n",
    "Samsung\n",
    "Snapdeal\n",
    "24*7 Innovation Labs\n",
    "Citrix\n",
    "D-E-Shaw\n",
    "FactSet\n",
    "HikeHousing.com\n",
    "MetLife\n",
    "Ola Cabs\n",
    "OraclePayu\n",
    "Teradata\n",
    "Visa\n",
    "Walmart\n",
    "Adobe\n",
    "Google\n",
    "Arcesium\"\"\""
   ]
  },
  {
   "cell_type": "code",
   "execution_count": null,
   "id": "0579ff90-f877-4a11-ba98-c4f45258d360",
   "metadata": {},
   "outputs": [],
   "source": [
    "class Solution:\n",
    "    def maxSubArraySum(self, arr):\n",
    "        res = arr[0]\n",
    "        maxEnding = arr[0]\n",
    "        n = len(arr)\n",
    "        \n",
    "        for i in range(1,n):\n",
    "            \n",
    "            maxEnding = max(maxEnding + arr[i] , arr[i])\n",
    "            \n",
    "            res = max(res,maxEnding)\n",
    "            \n",
    "        return res"
   ]
  }
 ],
 "metadata": {
  "kernelspec": {
   "display_name": "Python 3 (ipykernel)",
   "language": "python",
   "name": "python3"
  },
  "language_info": {
   "codemirror_mode": {
    "name": "ipython",
    "version": 3
   },
   "file_extension": ".py",
   "mimetype": "text/x-python",
   "name": "python",
   "nbconvert_exporter": "python",
   "pygments_lexer": "ipython3",
   "version": "3.12.7"
  }
 },
 "nbformat": 4,
 "nbformat_minor": 5
}
