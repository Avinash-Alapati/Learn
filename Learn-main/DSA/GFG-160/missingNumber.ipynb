{
 "cells": [
  {
   "cell_type": "code",
   "execution_count": null,
   "id": "621a825d-6d09-4d45-a97a-e5c3bded2281",
   "metadata": {},
   "outputs": [],
   "source": [
    "\"\"\" Smallest Positive Missing\n",
    "Difficulty: MediumAccuracy: 25.13%Submissions: 405K+Points: 4\n",
    "You are given an integer array arr[]. Your task is to find the smallest positive number missing from the array.\n",
    "\n",
    "Note: Positive number starts from 1. The array can have negative integers too.\n",
    "\n",
    "Examples:\n",
    "\n",
    "Input: arr[] = [2, -3, 4, 1, 1, 7]\n",
    "Output: 3\n",
    "Explanation: Smallest positive missing number is 3.\n",
    "Input: arr[] = [5, 3, 2, 5, 1]\n",
    "Output: 4\n",
    "Explanation: Smallest positive missing number is 4.\n",
    "Input: arr[] = [-8, 0, -1, -4, -3]\n",
    "Output: 1\n",
    "Explanation: Smallest positive missing number is 1.\n",
    "Constraints:  \n",
    "1 <= arr.size() <= 105\n",
    "-106 <= arr[i] <= 106\"\"\""
   ]
  },
  {
   "cell_type": "code",
   "execution_count": null,
   "id": "9b50596f-6c59-46e4-b29e-810bfee86b3d",
   "metadata": {},
   "outputs": [],
   "source": [
    "class Solution:\n",
    "    \n",
    "    #Function to find the smallest positive number missing from the array.\n",
    "    def missingNumber(self,arr):\n",
    "        n = len(arr)\n",
    "        \n",
    "        for i in range(n):\n",
    "            while 1 <= arr[i] <= n and arr[arr[i]-1] != arr[i]:\n",
    "                correct_index = arr[i] - 1\n",
    "                arr[i] , arr[correct_index] = arr[correct_index] , arr[i]\n",
    "                \n",
    "                \n",
    "        for i in range(n):\n",
    "            if arr[i] != i+1:\n",
    "                return i+1\n",
    "        \n",
    "        return n+1"
   ]
  }
 ],
 "metadata": {
  "kernelspec": {
   "display_name": "Python 3 (ipykernel)",
   "language": "python",
   "name": "python3"
  },
  "language_info": {
   "codemirror_mode": {
    "name": "ipython",
    "version": 3
   },
   "file_extension": ".py",
   "mimetype": "text/x-python",
   "name": "python",
   "nbconvert_exporter": "python",
   "pygments_lexer": "ipython3",
   "version": "3.12.7"
  }
 },
 "nbformat": 4,
 "nbformat_minor": 5
}
