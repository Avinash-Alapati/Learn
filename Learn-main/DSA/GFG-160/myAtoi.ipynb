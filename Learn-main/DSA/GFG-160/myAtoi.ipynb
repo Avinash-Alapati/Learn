{
 "cells": [
  {
   "cell_type": "code",
   "execution_count": null,
   "id": "02ce2b31-0a83-4891-8426-43e1ccdd8531",
   "metadata": {},
   "outputs": [],
   "source": [
    "\"\"\" Implement Atoi\n",
    "Difficulty: MediumAccuracy: 32.58%Submissions: 258K+Points: 4Average Time: 15m\n",
    "Given a string s, the objective is to convert it into integer format without utilizing any built-in functions. Refer the below steps to know about atoi() function.\n",
    "\n",
    "Cases for atoi() conversion:\n",
    "\n",
    "Skip any leading whitespaces.\n",
    "Check for a sign (‘+’ or ‘-‘), default to positive if no sign is present.\n",
    "Read the integer by ignoring leading zeros until a non-digit character is encountered or end of the string is reached. If no digits are present, return 0.\n",
    "If the integer is greater than 231 – 1, then return 231 – 1 and if the integer is smaller than -231, then return -231.\n",
    "Examples:\n",
    "\n",
    "Input: s = \"-123\"\n",
    "Output: -123\n",
    "Explanation: It is possible to convert -123 into an integer so we returned in the form of an integer\n",
    "Input: s = \"  -\"\n",
    "Output: 0\n",
    "Explanation: No digits are present, therefore the returned answer is 0.\n",
    "Input: s = \" 1231231231311133\"\n",
    "Output: 2147483647\n",
    "Explanation: The converted number will be greater than 231 – 1, therefore print 231 – 1 = 2147483647.\n",
    "Input: s = \"-999999999999\"\n",
    "Output: -2147483648\n",
    "Explanation: The converted number is smaller than -231, therefore print -231 = -2147483648.\n",
    "Input: s = \"  -0012gfg4\"\n",
    "Output: -12\n",
    "Explanation: Nothing is read after -12 as a non-digit character ‘g’ was encountered.\n",
    "Constraints:\n",
    "1 ≤ |s| ≤ 15\n",
    "\n",
    "\"\"\""
   ]
  },
  {
   "cell_type": "code",
   "execution_count": null,
   "id": "bb5abc36-c210-46cd-9589-121b0a70c620",
   "metadata": {},
   "outputs": [],
   "source": [
    "class Solution:\n",
    "    def myAtoi(self, s):\n",
    "        sign = 1\n",
    "        res = 0\n",
    "        idx = 0\n",
    "        \n",
    "        while idx < len(s) and s[idx] == ' ':\n",
    "            idx += 1\n",
    "            \n",
    "        if idx  < len(s) and (s[idx] == '-' or s[idx] == '+'):\n",
    "            if s[idx] == '-':\n",
    "                sign = -1\n",
    "            idx +=1 \n",
    "            \n",
    "            \n",
    "        while idx < len(s) and '0' <= s[idx] <= \"9\":\n",
    "            res = 10 * res +(ord(s[idx])- ord('0'))\n",
    "            \n",
    "            \n",
    "            if res > (2**31 - 1):\n",
    "                return sign * (2**31-1) if sign == 1 else -2**31\n",
    "                \n",
    "                \n",
    "            idx += 1\n",
    "        \n",
    "        \n",
    "        return res * sign\n"
   ]
  }
 ],
 "metadata": {
  "kernelspec": {
   "display_name": "Python 3 (ipykernel)",
   "language": "python",
   "name": "python3"
  },
  "language_info": {
   "codemirror_mode": {
    "name": "ipython",
    "version": 3
   },
   "file_extension": ".py",
   "mimetype": "text/x-python",
   "name": "python",
   "nbconvert_exporter": "python",
   "pygments_lexer": "ipython3",
   "version": "3.12.7"
  }
 },
 "nbformat": 4,
 "nbformat_minor": 5
}
