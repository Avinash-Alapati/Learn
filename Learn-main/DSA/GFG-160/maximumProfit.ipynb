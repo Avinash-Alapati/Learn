{
 "cells": [
  {
   "cell_type": "code",
   "execution_count": null,
   "id": "8126c998-f3b1-4a01-ac35-409fcb1d4479",
   "metadata": {},
   "outputs": [],
   "source": [
    "\"\"\"   Stock Buy and Sell – Multiple Transaction Allowed\n",
    "Difficulty: MediumAccuracy: 13.43%Submissions: 158K+Points: 4\n",
    "The cost of stock on each day is given in an array price[]. Each day you may decide to either buy or sell the stock i at price[i], you can even buy and sell the stock on the same day. Find the maximum profit that you can get.\n",
    "\n",
    "Note: A stock can only be sold if it has been bought previously and multiple stocks cannot be held on any given day.\n",
    "\n",
    "Examples:\n",
    "\n",
    "Input: prices[] = [100, 180, 260, 310, 40, 535, 695]\n",
    "Output: 865\n",
    "Explanation: Buy the stock on day 0 and sell it on day 3 => 310 – 100 = 210. Buy the stock on day 4 and sell it on day 6 => 695 – 40 = 655. Maximum Profit = 210 + 655 = 865.\n",
    "\n",
    "\n",
    "Input: prices[] = [4, 2, 2, 2, 4]\n",
    "Output: 2\n",
    "Explanation: Buy the stock on day 3 and sell it on day 4 => 4 – 2 = 2. Maximum Profit = 2. \"\"\""
   ]
  },
  {
   "cell_type": "code",
   "execution_count": null,
   "id": "3a97892c-e094-4636-b75c-86e820049358",
   "metadata": {},
   "outputs": [],
   "source": [
    "from typing import List\n",
    "\n",
    "\n",
    "class Solution:\n",
    "    def maximumProfit(self, prices) -> int:\n",
    "        max_profit = 0\n",
    "        n = len(prices)\n",
    "        \n",
    "        for i in range(n-1):\n",
    "            if prices[i+1] > prices[i]:\n",
    "                max_profit += prices[i+1] - prices[i]\n",
    "            \n",
    "        return max_profit"
   ]
  }
 ],
 "metadata": {
  "kernelspec": {
   "display_name": "Python 3 (ipykernel)",
   "language": "python",
   "name": "python3"
  },
  "language_info": {
   "codemirror_mode": {
    "name": "ipython",
    "version": 3
   },
   "file_extension": ".py",
   "mimetype": "text/x-python",
   "name": "python",
   "nbconvert_exporter": "python",
   "pygments_lexer": "ipython3",
   "version": "3.12.7"
  }
 },
 "nbformat": 4,
 "nbformat_minor": 5
}
