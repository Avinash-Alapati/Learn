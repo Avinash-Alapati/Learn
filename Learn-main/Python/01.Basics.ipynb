{
 "cells": [
  {
   "cell_type": "code",
   "execution_count": null,
   "id": "dac87bb9-ff5b-4033-8ed7-27c2810ca058",
   "metadata": {},
   "outputs": [],
   "source": [
    "#Basic Line to Print Any Statement\n",
    "print(\"Hello World!\")"
   ]
  },
  {
   "cell_type": "code",
   "execution_count": 5,
   "id": "1ca72c9d-cddc-44c5-8296-fb153c33f410",
   "metadata": {},
   "outputs": [
    {
     "name": "stdout",
     "output_type": "stream",
     "text": [
      "26\n",
      "Avinash\n"
     ]
    }
   ],
   "source": [
    "# Variables\n",
    "# Here a is the variable and 26 is the value \n",
    "# A variable is an container to store data (:\n",
    "# We can use variables for any operations\n",
    "a = 26\n",
    "b = \"Avinash\"\n",
    "print(a)\n",
    "print(b)"
   ]
  },
  {
   "cell_type": "code",
   "execution_count": 6,
   "id": "206dae97-4b5c-4c4e-b2ef-f2d96462539c",
   "metadata": {},
   "outputs": [],
   "source": [
    "# - This is an comment , we can use \"#\" to write a comment\n",
    "# This will not get Executed in the otput"
   ]
  },
  {
   "cell_type": "code",
   "execution_count": 10,
   "id": "faa3094e-35be-47e5-95a8-b9129354508e",
   "metadata": {},
   "outputs": [
    {
     "name": "stdout",
     "output_type": "stream",
     "text": [
      "<class 'int'>\n",
      "<class 'float'>\n",
      "<class 'str'>\n",
      "<class 'bool'>\n"
     ]
    }
   ],
   "source": [
    "# Data Types - The are used for knowing what the data is like if it is number the result would be int\n",
    "\n",
    "a = 26\n",
    "print(type(a))\n",
    "\n",
    "# They are few more data types , Decimal - Float\n",
    "b = 15.6\n",
    "print(type(b))\n",
    "\n",
    "# Characters - String \n",
    "\n",
    "c = \"Avinash\"\n",
    "print(type(c))\n",
    "\n",
    "#True/False - Boolean\n",
    "\n",
    "d = True\n",
    "print(type(d))"
   ]
  },
  {
   "cell_type": "code",
   "execution_count": 22,
   "id": "5b10d8d9-724d-4a5c-8288-40571ae354b7",
   "metadata": {},
   "outputs": [
    {
     "name": "stdout",
     "output_type": "stream",
     "text": [
      "Addition of 3 & 5 is 8\n",
      "Subraction of 3 & 5 is -2\n",
      "Multiplication of 3 & 5 is 15\n",
      "Division of 3 & 5 is 0.6\n"
     ]
    }
   ],
   "source": [
    "# Operators -  There are few Operators which we use for frequent use \n",
    "\n",
    "# Arithematic Operators - (+,-,*,./,%)\n",
    "\n",
    "a = 3\n",
    "b = 5\n",
    "\n",
    "print(f\"Addition of {a} & {b} is {a+b}\")\n",
    "print(f\"Subraction of {a} & {b} is {a-b}\")\n",
    "print(f\"Multiplication of {a} & {b} is {a*b}\")\n",
    "print(f\"Division of {a} & {b} is {a/b}\")"
   ]
  },
  {
   "cell_type": "code",
   "execution_count": 28,
   "id": "7306a3f0-a528-43b1-bf3d-95fb84e3d12c",
   "metadata": {},
   "outputs": [
    {
     "name": "stdout",
     "output_type": "stream",
     "text": [
      "False\n",
      "True\n",
      "False\n",
      "True\n",
      "False\n"
     ]
    }
   ],
   "source": [
    "#Assignment Operators\n",
    "\n",
    "a = 10\n",
    "b = 20\n",
    "\n",
    "print(a>b)\n",
    "print(a<b)\n",
    "print(a>=b)\n",
    "print(a<=b)\n",
    "print(a==b)"
   ]
  },
  {
   "cell_type": "code",
   "execution_count": 29,
   "id": "f8104de4-a963-41e0-992c-ab17216736e6",
   "metadata": {},
   "outputs": [
    {
     "name": "stdout",
     "output_type": "stream",
     "text": [
      "AviNash\n"
     ]
    }
   ],
   "source": [
    "#String Concadenation\n",
    "print(\"Avi\"+\"Nash\")"
   ]
  },
  {
   "cell_type": "code",
   "execution_count": 38,
   "id": "1211027a-f359-402e-81fb-50b05a7281f1",
   "metadata": {},
   "outputs": [
    {
     "name": "stdout",
     "output_type": "stream",
     "text": [
      "[1, 'Avinash', 2, 'Sai', 3, 'Ashok', 4, 'Mahi', 'Avinash']\n"
     ]
    }
   ],
   "source": [
    "#Lists allow duplicate values:\n",
    "\n",
    "list = [1,\"Avinash\",2,\"Sai\",3,\"Ashok\",4,\"Mahi\",\"Avinash\"]\n",
    "print(list)"
   ]
  },
  {
   "cell_type": "code",
   "execution_count": 34,
   "id": "d543a9da-fb95-497f-aa9c-bc248e65b649",
   "metadata": {},
   "outputs": [
    {
     "name": "stdout",
     "output_type": "stream",
     "text": [
      "(1, 'Avinash', 2, 'Sai', 3, 'Ashok', 4, 'Mahi')\n"
     ]
    }
   ],
   "source": [
    "tuple = (1,\"Avinash\",2,\"Sai\",3,\"Ashok\",4,\"Mahi\") \n",
    "\n",
    "print(tuple)"
   ]
  },
  {
   "cell_type": "code",
   "execution_count": 37,
   "id": "ca0c4679-e18b-4157-84e9-7667c78d70b4",
   "metadata": {},
   "outputs": [
    {
     "name": "stdout",
     "output_type": "stream",
     "text": [
      "{'Avinash': '4378', 'Sai': '4377', 'Ashok': '4379'}\n"
     ]
    }
   ],
   "source": [
    "dict = {\"Avinash\":\"4378\",\"Sai\":\"4377\",\"Ashok\":\"4379\"}\n",
    "print(dict)"
   ]
  },
  {
   "cell_type": "code",
   "execution_count": null,
   "id": "4ad92a98-672e-4b02-a37f-80048181698c",
   "metadata": {},
   "outputs": [],
   "source": []
  }
 ],
 "metadata": {
  "kernelspec": {
   "display_name": "Python 3 (ipykernel)",
   "language": "python",
   "name": "python3"
  },
  "language_info": {
   "codemirror_mode": {
    "name": "ipython",
    "version": 3
   },
   "file_extension": ".py",
   "mimetype": "text/x-python",
   "name": "python",
   "nbconvert_exporter": "python",
   "pygments_lexer": "ipython3",
   "version": "3.12.7"
  }
 },
 "nbformat": 4,
 "nbformat_minor": 5
}
