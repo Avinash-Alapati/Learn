{
 "cells": [
  {
   "cell_type": "code",
   "execution_count": 2,
   "id": "55cb3098-53ad-467b-a9e3-bec534512375",
   "metadata": {},
   "outputs": [
    {
     "name": "stdout",
     "output_type": "stream",
     "text": [
      "[\"Hey y'all , I am Avinash\"]\n"
     ]
    }
   ],
   "source": [
    "li = [\"Hey y'all , I am Avinash\"]\n",
    "print(li)"
   ]
  },
  {
   "cell_type": "code",
   "execution_count": 4,
   "id": "0e70d7ed-4650-4911-a4fe-3d351b31ab9a",
   "metadata": {},
   "outputs": [
    {
     "name": "stdout",
     "output_type": "stream",
     "text": [
      "['Hey', 'All', 'Gud']\n"
     ]
    }
   ],
   "source": [
    "li = [\"Hey\",'All','Gud']\n",
    "\n",
    "print(li)"
   ]
  },
  {
   "cell_type": "code",
   "execution_count": 5,
   "id": "5a2f81aa-36b5-4bbf-8207-b97b6ba12411",
   "metadata": {},
   "outputs": [
    {
     "name": "stdout",
     "output_type": "stream",
     "text": [
      "['Hey', 'Avinash', 'Gud']\n"
     ]
    }
   ],
   "source": [
    "li[1] = \"Avinash\"\n",
    "\n",
    "print(li)"
   ]
  },
  {
   "cell_type": "code",
   "execution_count": 6,
   "id": "042bf284-5482-4d0e-a0d3-351a8ebee69c",
   "metadata": {},
   "outputs": [
    {
     "data": {
      "text/plain": [
       "[2, 'Ammu', 26, 'Avvi']"
      ]
     },
     "execution_count": 6,
     "metadata": {},
     "output_type": "execute_result"
    }
   ],
   "source": [
    "li = [\"Avvi\",26,\"Ammu\",2]\n",
    "li[::-1]"
   ]
  },
  {
   "cell_type": "code",
   "execution_count": 8,
   "id": "5cbc12eb-a8c1-42e2-8cc2-67d3f50e2928",
   "metadata": {},
   "outputs": [
    {
     "data": {
      "text/plain": [
       "['Kiet', 2027]"
      ]
     },
     "execution_count": 8,
     "metadata": {},
     "output_type": "execute_result"
    }
   ],
   "source": [
    "s = [\"Kiet\",2027]\n",
    "s"
   ]
  },
  {
   "cell_type": "code",
   "execution_count": 9,
   "id": "68c1d3dd-bc12-46b6-91c7-356110af3697",
   "metadata": {},
   "outputs": [
    {
     "data": {
      "text/plain": [
       "['Kiet', 2027, 'Avvi', 26, 'Ammu', 2]"
      ]
     },
     "execution_count": 9,
     "metadata": {},
     "output_type": "execute_result"
    }
   ],
   "source": [
    "s + li"
   ]
  },
  {
   "cell_type": "code",
   "execution_count": 11,
   "id": "21cecb34-d041-4690-9680-0e72fd8aa53d",
   "metadata": {},
   "outputs": [
    {
     "data": {
      "text/plain": [
       "['Avvi', 26, 'Ammu', 2, 'Kiet', 2027]"
      ]
     },
     "execution_count": 11,
     "metadata": {},
     "output_type": "execute_result"
    }
   ],
   "source": [
    "a = li + s\n",
    "\n",
    "a"
   ]
  },
  {
   "cell_type": "code",
   "execution_count": 12,
   "id": "4143925f-505a-457f-a00d-73a8947ebb08",
   "metadata": {},
   "outputs": [
    {
     "data": {
      "text/plain": [
       "['Avvi', 26, 'Ammu']"
      ]
     },
     "execution_count": 12,
     "metadata": {},
     "output_type": "execute_result"
    }
   ],
   "source": [
    "a[0:3]"
   ]
  },
  {
   "cell_type": "code",
   "execution_count": 13,
   "id": "e0fb1ca9-d2ef-4792-92cf-18e474f7865b",
   "metadata": {},
   "outputs": [
    {
     "data": {
      "text/plain": [
       "[]"
      ]
     },
     "execution_count": 13,
     "metadata": {},
     "output_type": "execute_result"
    }
   ],
   "source": [
    "a[0:3:-1]"
   ]
  },
  {
   "cell_type": "code",
   "execution_count": 14,
   "id": "101b7f66-3792-459e-82e8-3adcf293b3e6",
   "metadata": {},
   "outputs": [
    {
     "data": {
      "text/plain": [
       "[2027, 'Kiet', 2, 'Ammu', 26, 'Avvi']"
      ]
     },
     "execution_count": 14,
     "metadata": {},
     "output_type": "execute_result"
    }
   ],
   "source": [
    "a[::-1]"
   ]
  },
  {
   "cell_type": "code",
   "execution_count": 16,
   "id": "d8645322-8c39-4635-a5df-8a8d80514af9",
   "metadata": {},
   "outputs": [
    {
     "data": {
      "text/plain": [
       "True"
      ]
     },
     "execution_count": 16,
     "metadata": {},
     "output_type": "execute_result"
    }
   ],
   "source": [
    "\"Ammu\" in a"
   ]
  },
  {
   "cell_type": "code",
   "execution_count": 17,
   "id": "911e990c-1e97-4d87-b5ed-cc258bd723bc",
   "metadata": {},
   "outputs": [
    {
     "data": {
      "text/plain": [
       "False"
      ]
     },
     "execution_count": 17,
     "metadata": {},
     "output_type": "execute_result"
    }
   ],
   "source": [
    "2025 in s"
   ]
  },
  {
   "cell_type": "code",
   "execution_count": 22,
   "id": "bd658c81-6ad6-4892-bb97-0d5b0fe3313c",
   "metadata": {},
   "outputs": [
    {
     "data": {
      "text/plain": [
       "['Avinash', 26, 'Example', 2]"
      ]
     },
     "execution_count": 22,
     "metadata": {},
     "output_type": "execute_result"
    }
   ],
   "source": [
    "l1 = [\"Avinash\",26]\n",
    "l2 = [\"Example\",2]\n",
    "s = l1 + l2\n",
    "\n",
    "s"
   ]
  },
  {
   "cell_type": "code",
   "execution_count": null,
   "id": "60e6124c-c730-4c03-a69d-6e3143a8e6a2",
   "metadata": {},
   "outputs": [],
   "source": [
    "# List Operations / List Manipulation"
   ]
  },
  {
   "cell_type": "code",
   "execution_count": 24,
   "id": "0379faa1-9f6d-48ec-83d1-7a1f5d0890b3",
   "metadata": {},
   "outputs": [
    {
     "data": {
      "text/plain": [
       "['Avinash', 26, 'Example', 2, 'Studies']"
      ]
     },
     "execution_count": 24,
     "metadata": {},
     "output_type": "execute_result"
    }
   ],
   "source": [
    "s.append(\"Studies\")\n",
    "s"
   ]
  },
  {
   "cell_type": "code",
   "execution_count": 27,
   "id": "86172d42-c0d2-4d9e-870b-4dee31c8da61",
   "metadata": {},
   "outputs": [
    {
     "data": {
      "text/plain": [
       "['Avinash', 26, 'Kiet', 'Kiet', 'Example', 2, 'Studies']"
      ]
     },
     "execution_count": 27,
     "metadata": {},
     "output_type": "execute_result"
    }
   ],
   "source": [
    "s.insert(2,\"Kiet\")\n",
    "s"
   ]
  },
  {
   "cell_type": "code",
   "execution_count": 28,
   "id": "6cdb46eb-e853-4d90-a1dc-16c79c0739e2",
   "metadata": {},
   "outputs": [
    {
     "data": {
      "text/plain": [
       "0"
      ]
     },
     "execution_count": 28,
     "metadata": {},
     "output_type": "execute_result"
    }
   ],
   "source": [
    "s.count(\"heyy\")"
   ]
  },
  {
   "cell_type": "code",
   "execution_count": 31,
   "id": "416d630c-ad72-49cd-a298-573ddaf1d62a",
   "metadata": {},
   "outputs": [
    {
     "data": {
      "text/plain": [
       "['Avinash', 26, 'Kiet', 'Kiet', 'Example', 2, 'Studies', 'A', 'V', 'i']"
      ]
     },
     "execution_count": 31,
     "metadata": {},
     "output_type": "execute_result"
    }
   ],
   "source": [
    "s.extend(\"AVi\")\n",
    "s"
   ]
  },
  {
   "cell_type": "code",
   "execution_count": 33,
   "id": "da839fbd-c1c4-4681-85e3-fbbc6b459d06",
   "metadata": {},
   "outputs": [
    {
     "data": {
      "text/plain": [
       "1"
      ]
     },
     "execution_count": 33,
     "metadata": {},
     "output_type": "execute_result"
    }
   ],
   "source": [
    "s.index(26)"
   ]
  },
  {
   "cell_type": "code",
   "execution_count": 36,
   "id": "3c5a8dee-3f41-45a6-bbcd-1576dd7bc52a",
   "metadata": {},
   "outputs": [
    {
     "data": {
      "text/plain": [
       "['Avinash', 26, 'Kiet', 'Kiet', 'Example', 2, 'Studies']"
      ]
     },
     "execution_count": 36,
     "metadata": {},
     "output_type": "execute_result"
    }
   ],
   "source": [
    "s.pop()\n",
    "s"
   ]
  },
  {
   "cell_type": "code",
   "execution_count": 37,
   "id": "599430e6-528f-4321-b987-e448afe6d26f",
   "metadata": {},
   "outputs": [],
   "source": [
    "l = [1,4,3,2,5,6]\n"
   ]
  },
  {
   "cell_type": "code",
   "execution_count": 38,
   "id": "feb9f67d-a6f3-425e-a55b-f58d3f772a2b",
   "metadata": {},
   "outputs": [
    {
     "data": {
      "text/plain": [
       "6"
      ]
     },
     "execution_count": 38,
     "metadata": {},
     "output_type": "execute_result"
    }
   ],
   "source": [
    "l.pop()"
   ]
  },
  {
   "cell_type": "code",
   "execution_count": 39,
   "id": "831a841d-a7d2-4bd6-8d53-998454a7ab1b",
   "metadata": {},
   "outputs": [
    {
     "data": {
      "text/plain": [
       "[1, 4, 3, 2, 5]"
      ]
     },
     "execution_count": 39,
     "metadata": {},
     "output_type": "execute_result"
    }
   ],
   "source": [
    "l"
   ]
  },
  {
   "cell_type": "code",
   "execution_count": 40,
   "id": "38eed3c5-214d-464f-bca6-d3ac311a9a10",
   "metadata": {},
   "outputs": [
    {
     "data": {
      "text/plain": [
       "1"
      ]
     },
     "execution_count": 40,
     "metadata": {},
     "output_type": "execute_result"
    }
   ],
   "source": [
    "l.index(4)"
   ]
  },
  {
   "cell_type": "code",
   "execution_count": 41,
   "id": "5bd900a5-c2b5-4754-9314-dae0e824b400",
   "metadata": {},
   "outputs": [],
   "source": [
    "l.remove(2)"
   ]
  },
  {
   "cell_type": "code",
   "execution_count": 42,
   "id": "11ca7ff5-8775-419a-a60b-119689785475",
   "metadata": {},
   "outputs": [
    {
     "data": {
      "text/plain": [
       "[1, 4, 3, 5]"
      ]
     },
     "execution_count": 42,
     "metadata": {},
     "output_type": "execute_result"
    }
   ],
   "source": [
    "l"
   ]
  },
  {
   "cell_type": "code",
   "execution_count": 43,
   "id": "3456ec84-3cf4-4e4e-8223-f34ee330a13e",
   "metadata": {},
   "outputs": [],
   "source": [
    "l.reverse()"
   ]
  },
  {
   "cell_type": "code",
   "execution_count": 44,
   "id": "230939a4-690b-423f-a68e-f16ca7897cfb",
   "metadata": {},
   "outputs": [
    {
     "data": {
      "text/plain": [
       "[5, 3, 4, 1]"
      ]
     },
     "execution_count": 44,
     "metadata": {},
     "output_type": "execute_result"
    }
   ],
   "source": [
    "l"
   ]
  },
  {
   "cell_type": "code",
   "execution_count": 45,
   "id": "cf70baea-b123-4875-ad2f-96959b6fc121",
   "metadata": {},
   "outputs": [
    {
     "data": {
      "text/plain": [
       "[1, 3, 4, 5]"
      ]
     },
     "execution_count": 45,
     "metadata": {},
     "output_type": "execute_result"
    }
   ],
   "source": [
    "l.sort()\n",
    "l"
   ]
  },
  {
   "cell_type": "code",
   "execution_count": null,
   "id": "9e39535e-743b-46c5-8e10-8a79f1b72821",
   "metadata": {},
   "outputs": [],
   "source": [
    "fan = [2,5,6,56,7,73,3,3,5,33,22,5.6789]\n",
    "fan.sort()\n",
    "fan"
   ]
  },
  {
   "cell_type": "code",
   "execution_count": null,
   "id": "5bc014e1-b497-45f5-8f0f-20e57d7a6d07",
   "metadata": {},
   "outputs": [],
   "source": [
    "# Practice Question"
   ]
  },
  {
   "cell_type": "code",
   "execution_count": null,
   "id": "c0bb52db-d6e9-4e17-bacb-fcffd013cd15",
   "metadata": {},
   "outputs": [],
   "source": [
    "#Question-1\n",
    "\n",
    "#solve it eithouot using AI & not seeing Solution\n",
    "\n",
    "# If Your Nested List Contain String Then Find Out Its Index in Nested List and print it then remove the String\n",
    "\n",
    "# l = [[1,2,3],[11,12,'c','c','d'],[21,'t',42],[4,5,3,5],[7,8,9],\"demo\",12.5]\n",
    "\n",
    "# for i in l:\n",
    "#     if type(i) == list:\n",
    "#         j = 0\n",
    "#         while j < len(i):\n",
    "#             if type(i[j]) is str:\n",
    "#                 print(\"Index of String {} is :\".format(i[j]),j)\n",
    "#                 j+=1\n",
    "#         j = 0\n",
    "#         while j < len(i):\n",
    "#             if type(i[j]) is str:\n",
    "#                 print(\"The String in the Nested List is {}\".format(i[j]))\n",
    "#                 i.remove(i[j])\n",
    "#                 j-=1\n",
    "# print(\"The after removal of String in Nested List \\r\",l,'/n')\n",
    "                "
   ]
  },
  {
   "cell_type": "code",
   "execution_count": 1,
   "id": "4225ee44-32a5-47c9-81e9-dffca8df557b",
   "metadata": {},
   "outputs": [
    {
     "name": "stdout",
     "output_type": "stream",
     "text": [
      "Index of String 'c' is: 2\n",
      "Index of String 'c' is: 3\n",
      "Index of String 'd' is: 4\n",
      "The String in the Nested List is 'c' and is being removed\n",
      "The String in the Nested List is 'c' and is being removed\n",
      "The String in the Nested List is 'd' and is being removed\n",
      "Index of String 't' is: 1\n",
      "The String in the Nested List is 't' and is being removed\n",
      "After removal of Strings in Nested List:\n",
      " [[1, 2, 3], [11, 12], [21, 42], [4, 5, 3, 5], [7, 8, 9], 'demo', 12.5]\n"
     ]
    }
   ],
   "source": [
    "#Question-1\n",
    "\n",
    "#solve it eithouot using AI & not seeing Solution\n",
    "\n",
    "# If Your Nested List Contain String Then Find Out Its Index in Nested List and print it then remove the String\n",
    "\n",
    "\n",
    "l = [[1, 2, 3], [11, 12, 'c', 'c', 'd'], [21, 't', 42], [4, 5, 3, 5], [7, 8, 9], \"demo\", 12.5]\n",
    "\n",
    "for i in l:\n",
    "    if isinstance(i, list):  # Check if it's a nested list\n",
    "        j = 0\n",
    "        while j < len(i):  \n",
    "            if isinstance(i[j], str):  # Find and print string indices\n",
    "                print(f\"Index of String '{i[j]}' is:\", j)\n",
    "            j += 1\n",
    "\n",
    "        # Removing strings without list comprehension\n",
    "        j = 0\n",
    "        while j < len(i):\n",
    "            if isinstance(i[j], str):\n",
    "                print(f\"The String in the Nested List is '{i[j]}' and is being removed\")\n",
    "                i.pop(j)  # Remove the string\n",
    "            else:\n",
    "                j += 1  # Move to the next index only if no removal occurs\n",
    "\n",
    "print(\"After removal of Strings in Nested List:\\n\", l)\n"
   ]
  },
  {
   "cell_type": "code",
   "execution_count": 3,
   "id": "558ee289-5a2f-40b8-a211-7d5d1c4c1d5d",
   "metadata": {},
   "outputs": [
    {
     "name": "stdin",
     "output_type": "stream",
     "text": [
      " 26\n",
      " 02\n",
      " Avinash\n",
      " Avi\n",
      " A\n"
     ]
    },
    {
     "data": {
      "text/plain": [
       "['26', '02', 'Avinash', 'Avi', 'A']"
      ]
     },
     "execution_count": 3,
     "metadata": {},
     "output_type": "execute_result"
    }
   ],
   "source": [
    "l = []\n",
    "\n",
    "for i in range(5):\n",
    "    l.append((input()))\n",
    "l"
   ]
  },
  {
   "cell_type": "code",
   "execution_count": 4,
   "id": "7379042a-6842-4a48-b0a1-488c67972685",
   "metadata": {},
   "outputs": [],
   "source": [
    "# List Comphrension - writing loops and comments in a single line"
   ]
  },
  {
   "cell_type": "code",
   "execution_count": 5,
   "id": "0c7519cf-e787-40eb-a960-79139ec0ba8e",
   "metadata": {},
   "outputs": [
    {
     "data": {
      "text/plain": [
       "[0, 2, 4, 6, 8]"
      ]
     },
     "execution_count": 5,
     "metadata": {},
     "output_type": "execute_result"
    }
   ],
   "source": [
    "[i for i in range(10) if i%2 == 0]"
   ]
  },
  {
   "cell_type": "code",
   "execution_count": 6,
   "id": "22a0110b-6538-4692-9780-adcad39b3280",
   "metadata": {},
   "outputs": [
    {
     "data": {
      "text/plain": [
       "['Even', 'odd', 'Even', 'odd', 'Even', 'odd', 'Even', 'odd', 'Even', 'odd']"
      ]
     },
     "execution_count": 6,
     "metadata": {},
     "output_type": "execute_result"
    }
   ],
   "source": [
    "l = []\n",
    "\n",
    "for i in range(10):\n",
    "    if i%2 == 0:\n",
    "        l.append(\"Even\")\n",
    "    else:\n",
    "        l.append(\"odd\")\n",
    "l"
   ]
  },
  {
   "cell_type": "code",
   "execution_count": 7,
   "id": "dd7064b1-fd12-45e1-8fc9-70d87859fc56",
   "metadata": {},
   "outputs": [
    {
     "data": {
      "text/plain": [
       "['Even', 'ODD', 'Even', 'ODD', 'Even', 'ODD', 'Even', 'ODD', 'Even', 'ODD']"
      ]
     },
     "execution_count": 7,
     "metadata": {},
     "output_type": "execute_result"
    }
   ],
   "source": [
    "[\"Even\" if i%2 == 0 else \"ODD\" for i in range(10) ]"
   ]
  },
  {
   "cell_type": "code",
   "execution_count": 8,
   "id": "24555db0-331f-46b2-9c07-7f6e7e1ad6be",
   "metadata": {},
   "outputs": [
    {
     "data": {
      "text/plain": [
       "[[0, 1, 2], [0, 1, 2], [0, 1, 2]]"
      ]
     },
     "execution_count": 8,
     "metadata": {},
     "output_type": "execute_result"
    }
   ],
   "source": [
    "matrix = []\n",
    "\n",
    "for i in range(3):\n",
    "    matrix.append([])\n",
    "    for j in range(3):\n",
    "        matrix[i].append(j)\n",
    "\n",
    "matrix"
   ]
  },
  {
   "cell_type": "code",
   "execution_count": 9,
   "id": "635995ea-e0ba-4e2c-b0d8-09025b52bc7d",
   "metadata": {},
   "outputs": [
    {
     "data": {
      "text/plain": [
       "[[0, 1, 2], [0, 1, 2], [0, 1, 2]]"
      ]
     },
     "execution_count": 9,
     "metadata": {},
     "output_type": "execute_result"
    }
   ],
   "source": [
    "mat = []\n",
    "[[j for j in range(3)] for i in range(3)]"
   ]
  },
  {
   "cell_type": "code",
   "execution_count": 10,
   "id": "45c7c2ab-6238-4dd4-8163-0fdedae0906b",
   "metadata": {},
   "outputs": [
    {
     "data": {
      "text/plain": [
       "[[0, 1, 2], [0, 1, 2], [0, 1, 2]]"
      ]
     },
     "execution_count": 10,
     "metadata": {},
     "output_type": "execute_result"
    }
   ],
   "source": [
    "mat = []\n",
    "\n",
    "[[j for j in range(3)] for i in range(3)]"
   ]
  },
  {
   "cell_type": "code",
   "execution_count": 11,
   "id": "7de181fc-dd46-421d-bbc1-0d6c8ea747eb",
   "metadata": {},
   "outputs": [
    {
     "data": {
      "text/plain": [
       "[0, 1, 2, 3, 4, 5, 6, 7]"
      ]
     },
     "execution_count": 11,
     "metadata": {},
     "output_type": "execute_result"
    }
   ],
   "source": [
    "[i for i in range(8)]"
   ]
  },
  {
   "cell_type": "code",
   "execution_count": 13,
   "id": "f88d7c20-3595-4ae1-b29f-bdc45ddf06b0",
   "metadata": {},
   "outputs": [
    {
     "data": {
      "text/plain": [
       "[0, 'odd', 2, 'odd', 4, 'odd', 6, 'odd', 8, 'odd']"
      ]
     },
     "execution_count": 13,
     "metadata": {},
     "output_type": "execute_result"
    }
   ],
   "source": [
    "[i if i%2 == 0 else \"odd\" for i in range(10)]"
   ]
  },
  {
   "cell_type": "code",
   "execution_count": 14,
   "id": "ae8607b1-e285-4bff-b233-14241f6c5c1b",
   "metadata": {},
   "outputs": [
    {
     "data": {
      "text/plain": [
       "[0, 6]"
      ]
     },
     "execution_count": 14,
     "metadata": {},
     "output_type": "execute_result"
    }
   ],
   "source": [
    "[i for i in range(10) if i%2==0 if i%3==0]"
   ]
  },
  {
   "cell_type": "code",
   "execution_count": 15,
   "id": "23007d1d-51f6-475a-908b-b871f650a745",
   "metadata": {},
   "outputs": [
    {
     "data": {
      "text/plain": [
       "[0, 6]"
      ]
     },
     "execution_count": 15,
     "metadata": {},
     "output_type": "execute_result"
    }
   ],
   "source": [
    "l = []\n",
    "\n",
    "for i in range(10):\n",
    "    if i%2 == 0 and i%3 == 0:\n",
    "        l.append(i)\n",
    "\n",
    "l"
   ]
  },
  {
   "cell_type": "code",
   "execution_count": 16,
   "id": "33746ed1-9b8e-4ea4-bbfc-f482a50d5a31",
   "metadata": {},
   "outputs": [
    {
     "data": {
      "text/plain": [
       "['demo', 'demo']"
      ]
     },
     "execution_count": 16,
     "metadata": {},
     "output_type": "execute_result"
    }
   ],
   "source": [
    "[\"Yes\" if i==2 else \"No\" if i == 1 else \"demo\" for i in l]"
   ]
  },
  {
   "cell_type": "code",
   "execution_count": 17,
   "id": "a02e1950-f1a4-49ff-bbf4-2f5427e76ed5",
   "metadata": {},
   "outputs": [
    {
     "data": {
      "text/plain": [
       "['No', 'No']"
      ]
     },
     "execution_count": 17,
     "metadata": {},
     "output_type": "execute_result"
    }
   ],
   "source": [
    "[\"Yes\" if i==2 else \"No\"  for i in l]"
   ]
  },
  {
   "cell_type": "code",
   "execution_count": 18,
   "id": "68f493f4-f074-4353-9c73-d05d054cc592",
   "metadata": {},
   "outputs": [
    {
     "name": "stdout",
     "output_type": "stream",
     "text": [
      "0\n",
      "3\n",
      "6\n",
      "9\n"
     ]
    }
   ],
   "source": [
    "for i in range(0,10,3):\n",
    "    print(i)"
   ]
  },
  {
   "cell_type": "code",
   "execution_count": 20,
   "id": "2964693c-33b9-404e-8053-ae9643157434",
   "metadata": {},
   "outputs": [
    {
     "name": "stdout",
     "output_type": "stream",
     "text": [
      "a\n",
      "c\n"
     ]
    },
    {
     "data": {
      "text/plain": [
       "['b', 'd']"
      ]
     },
     "execution_count": 20,
     "metadata": {},
     "output_type": "execute_result"
    }
   ],
   "source": [
    "#first the loop will iterate through 0Th index and removes 'a' then the index of 'b' will become 0\n",
    "#now the loop iterates Through 1th index whicch will become 'c' after removal the it removes c\n",
    "#Now the index of 'd' Become 1th index so it already checked 1 so it looks for 2th index\n",
    "x = ['a','b','c','d']\n",
    "\n",
    "for i in x:\n",
    "    print(i)\n",
    "    x.remove(i)\n",
    "\n",
    "x"
   ]
  }
 ],
 "metadata": {
  "kernelspec": {
   "display_name": "Python 3 (ipykernel)",
   "language": "python",
   "name": "python3"
  },
  "language_info": {
   "codemirror_mode": {
    "name": "ipython",
    "version": 3
   },
   "file_extension": ".py",
   "mimetype": "text/x-python",
   "name": "python",
   "nbconvert_exporter": "python",
   "pygments_lexer": "ipython3",
   "version": "3.12.7"
  }
 },
 "nbformat": 4,
 "nbformat_minor": 5
}
