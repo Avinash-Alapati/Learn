{
 "cells": [
  {
   "cell_type": "code",
   "execution_count": 1,
   "id": "19982e73-c035-4c34-89f7-3bd6626f2c99",
   "metadata": {},
   "outputs": [],
   "source": [
    "# Set -Collection - No Duplicates\n",
    "\n",
    "x = set()\n"
   ]
  },
  {
   "cell_type": "code",
   "execution_count": 2,
   "id": "fb82b85a-d322-47d6-9da1-44b814587db9",
   "metadata": {},
   "outputs": [
    {
     "data": {
      "text/plain": [
       "set"
      ]
     },
     "execution_count": 2,
     "metadata": {},
     "output_type": "execute_result"
    }
   ],
   "source": [
    "type(x)"
   ]
  },
  {
   "cell_type": "code",
   "execution_count": 5,
   "id": "d4b020d4-51ee-4ff7-803e-6c81d2e68124",
   "metadata": {},
   "outputs": [],
   "source": [
    "# We Can Remove duplicates without writing a 10 lines code we can use this collection\n",
    "\n",
    "l = [34,2,4,26,432,26,12,26,53,26,\"Avinash\" ,\"Alapati\",\"Avinash\",\"Avi\"]"
   ]
  },
  {
   "cell_type": "code",
   "execution_count": 4,
   "id": "21970cde-73ac-4e3f-b0c5-537d0c6f7766",
   "metadata": {},
   "outputs": [
    {
     "data": {
      "text/plain": [
       "[34, 2, 4, 26, 432, 26, 12, 26, 53, 26, 'Avinash', 'Alapati', 'Avinash', 'Avi']"
      ]
     },
     "execution_count": 4,
     "metadata": {},
     "output_type": "execute_result"
    }
   ],
   "source": [
    "l"
   ]
  },
  {
   "cell_type": "code",
   "execution_count": 6,
   "id": "013afec5-538f-43ec-aa53-9e3578ab9ffd",
   "metadata": {},
   "outputs": [],
   "source": [
    "# You can see All The Duplicate '26' and Dupliate \"Avinash\" got removed\n",
    "s = set(l)"
   ]
  },
  {
   "cell_type": "code",
   "execution_count": 7,
   "id": "86d392ad-2f8e-4dc9-bd63-8c0fdff5cd73",
   "metadata": {},
   "outputs": [
    {
     "data": {
      "text/plain": [
       "{12, 2, 26, 34, 4, 432, 53, 'Alapati', 'Avi', 'Avinash'}"
      ]
     },
     "execution_count": 7,
     "metadata": {},
     "output_type": "execute_result"
    }
   ],
   "source": [
    "s"
   ]
  },
  {
   "cell_type": "code",
   "execution_count": 8,
   "id": "ac0606cd-f131-4228-ae98-d7ab3188200e",
   "metadata": {},
   "outputs": [
    {
     "name": "stdout",
     "output_type": "stream",
     "text": [
      "34\n",
      "2\n",
      "4\n",
      "Alapati\n",
      "12\n",
      "Avinash\n",
      "432\n",
      "53\n",
      "26\n",
      "Avi\n"
     ]
    }
   ],
   "source": [
    "# Iteration operation\n",
    "\n",
    "for i in s:\n",
    "    print(i)"
   ]
  },
  {
   "cell_type": "code",
   "execution_count": 9,
   "id": "23b0db5e-dfc2-4108-b2d4-b1a3d4532703",
   "metadata": {},
   "outputs": [
    {
     "data": {
      "text/plain": [
       "True"
      ]
     },
     "execution_count": 9,
     "metadata": {},
     "output_type": "execute_result"
    }
   ],
   "source": [
    "26 in s\n"
   ]
  },
  {
   "cell_type": "code",
   "execution_count": 10,
   "id": "cfc15815-1c08-4c4c-9fdc-f620ac46e7e7",
   "metadata": {},
   "outputs": [
    {
     "data": {
      "text/plain": [
       "True"
      ]
     },
     "execution_count": 10,
     "metadata": {},
     "output_type": "execute_result"
    }
   ],
   "source": [
    "\"Avi\" in s"
   ]
  },
  {
   "cell_type": "code",
   "execution_count": 11,
   "id": "9474fa16-6cac-400d-a7d4-ae8ac1acf8b0",
   "metadata": {},
   "outputs": [
    {
     "ename": "TypeError",
     "evalue": "'set' object is not subscriptable",
     "output_type": "error",
     "traceback": [
      "\u001b[1;31m---------------------------------------------------------------------------\u001b[0m",
      "\u001b[1;31mTypeError\u001b[0m                                 Traceback (most recent call last)",
      "Cell \u001b[1;32mIn[11], line 2\u001b[0m\n\u001b[0;32m      1\u001b[0m \u001b[38;5;66;03m#Indexing operation doesn't work on set\u001b[39;00m\n\u001b[1;32m----> 2\u001b[0m s[\u001b[38;5;241m0\u001b[39m]\n",
      "\u001b[1;31mTypeError\u001b[0m: 'set' object is not subscriptable"
     ]
    }
   ],
   "source": [
    "#Indexing operation doesn't work on set\n",
    "s[0]"
   ]
  },
  {
   "cell_type": "code",
   "execution_count": 12,
   "id": "95701544-1f95-4f95-b694-8534c0d6e0c9",
   "metadata": {},
   "outputs": [],
   "source": [
    "s = set()"
   ]
  },
  {
   "cell_type": "code",
   "execution_count": 13,
   "id": "2bbb58dc-4ce0-4d15-bb6f-63c24cf0640b",
   "metadata": {},
   "outputs": [],
   "source": [
    "s.add(26)"
   ]
  },
  {
   "cell_type": "code",
   "execution_count": 14,
   "id": "a9597acd-4950-4cb4-a875-be265997c018",
   "metadata": {},
   "outputs": [],
   "source": [
    "s.add(\"Avinash\")"
   ]
  },
  {
   "cell_type": "code",
   "execution_count": 15,
   "id": "c56502ac-cf57-49e7-bd45-a033718ab86d",
   "metadata": {},
   "outputs": [],
   "source": [
    "s.add(\"advhi\")"
   ]
  },
  {
   "cell_type": "code",
   "execution_count": 16,
   "id": "cc287452-6564-4c7e-b483-9c415fffa0c1",
   "metadata": {},
   "outputs": [
    {
     "data": {
      "text/plain": [
       "{26, 'Avinash', 'advhi'}"
      ]
     },
     "execution_count": 16,
     "metadata": {},
     "output_type": "execute_result"
    }
   ],
   "source": [
    "s"
   ]
  },
  {
   "cell_type": "code",
   "execution_count": 17,
   "id": "1a68d171-f0f5-441d-ba9a-08b284e8ebc4",
   "metadata": {},
   "outputs": [],
   "source": [
    "s.remove(26)"
   ]
  },
  {
   "cell_type": "code",
   "execution_count": 18,
   "id": "31c2a0a7-8c57-4733-a994-26a2467e4def",
   "metadata": {},
   "outputs": [
    {
     "data": {
      "text/plain": [
       "{'Avinash', 'advhi'}"
      ]
     },
     "execution_count": 18,
     "metadata": {},
     "output_type": "execute_result"
    }
   ],
   "source": [
    "s"
   ]
  },
  {
   "cell_type": "code",
   "execution_count": 19,
   "id": "bd4b4429-3e77-4174-bd00-1f90196111b8",
   "metadata": {},
   "outputs": [],
   "source": [
    "s.clear()"
   ]
  },
  {
   "cell_type": "code",
   "execution_count": 20,
   "id": "bc9b3cec-1bb2-4599-80ee-727119a25d63",
   "metadata": {},
   "outputs": [
    {
     "data": {
      "text/plain": [
       "set()"
      ]
     },
     "execution_count": 20,
     "metadata": {},
     "output_type": "execute_result"
    }
   ],
   "source": [
    "s"
   ]
  },
  {
   "cell_type": "code",
   "execution_count": 21,
   "id": "8e728cb5-fd8c-4dde-a77d-675ca181ecfe",
   "metadata": {},
   "outputs": [],
   "source": [
    "s.add(\"Avinashh\")"
   ]
  },
  {
   "cell_type": "code",
   "execution_count": 22,
   "id": "25f4dbc7-c157-4057-be12-5ee275aabcef",
   "metadata": {},
   "outputs": [],
   "source": [
    "s.add(26)"
   ]
  },
  {
   "cell_type": "code",
   "execution_count": 23,
   "id": "d8ad9a38-fb0e-4c19-950c-010efbd7f53b",
   "metadata": {},
   "outputs": [
    {
     "ename": "TypeError",
     "evalue": "set.add() takes exactly one argument (2 given)",
     "output_type": "error",
     "traceback": [
      "\u001b[1;31m---------------------------------------------------------------------------\u001b[0m",
      "\u001b[1;31mTypeError\u001b[0m                                 Traceback (most recent call last)",
      "Cell \u001b[1;32mIn[23], line 3\u001b[0m\n\u001b[0;32m      1\u001b[0m \u001b[38;5;66;03m# We can give only one parameter in add func\u001b[39;00m\n\u001b[1;32m----> 3\u001b[0m s\u001b[38;5;241m.\u001b[39madd(\u001b[38;5;124m\"\u001b[39m\u001b[38;5;124m02\u001b[39m\u001b[38;5;124m\"\u001b[39m , \u001b[38;5;124m\"\u001b[39m\u001b[38;5;124mWar\u001b[39m\u001b[38;5;124m\"\u001b[39m)\n",
      "\u001b[1;31mTypeError\u001b[0m: set.add() takes exactly one argument (2 given)"
     ]
    }
   ],
   "source": [
    "# We can give only one parameter in add func\n",
    "\n",
    "s.add(\"02\" , \"War\")"
   ]
  },
  {
   "cell_type": "code",
   "execution_count": 24,
   "id": "ae1365ce-bc18-47ce-ad32-614d60547544",
   "metadata": {},
   "outputs": [
    {
     "data": {
      "text/plain": [
       "{26, 'Avinashh'}"
      ]
     },
     "execution_count": 24,
     "metadata": {},
     "output_type": "execute_result"
    }
   ],
   "source": [
    "s"
   ]
  },
  {
   "cell_type": "code",
   "execution_count": 25,
   "id": "62625e44-fd83-445d-ba51-ffa87f5c9de1",
   "metadata": {},
   "outputs": [],
   "source": [
    "s.add(\"war\")"
   ]
  },
  {
   "cell_type": "code",
   "execution_count": 26,
   "id": "9b8c9038-6a53-4e9b-ac7c-8d23df477dd3",
   "metadata": {},
   "outputs": [
    {
     "data": {
      "text/plain": [
       "{26, 'Avinashh', 'war'}"
      ]
     },
     "execution_count": 26,
     "metadata": {},
     "output_type": "execute_result"
    }
   ],
   "source": [
    "s"
   ]
  },
  {
   "cell_type": "code",
   "execution_count": 28,
   "id": "fb406682-d8c9-4ac5-881a-97426bb1390b",
   "metadata": {},
   "outputs": [],
   "source": [
    "l = [324,2342,24,54,423,25,52,32,3,2]"
   ]
  },
  {
   "cell_type": "code",
   "execution_count": 29,
   "id": "aadac0a2-d591-4862-8ccb-e8f87a9fb2ad",
   "metadata": {},
   "outputs": [],
   "source": [
    "# Converting List to Set\n",
    "\n",
    "s1 = set(l)"
   ]
  },
  {
   "cell_type": "code",
   "execution_count": 30,
   "id": "38631842-aaf8-4c34-951c-eaec46b9fc74",
   "metadata": {},
   "outputs": [
    {
     "data": {
      "text/plain": [
       "{2, 3, 24, 25, 32, 52, 54, 324, 423, 2342}"
      ]
     },
     "execution_count": 30,
     "metadata": {},
     "output_type": "execute_result"
    }
   ],
   "source": [
    "s1"
   ]
  },
  {
   "cell_type": "code",
   "execution_count": 31,
   "id": "76f77292-dc69-4ead-a2d4-d37ebb3eeca2",
   "metadata": {},
   "outputs": [
    {
     "data": {
      "text/plain": [
       "{26, 'Avinashh', 'war'}"
      ]
     },
     "execution_count": 31,
     "metadata": {},
     "output_type": "execute_result"
    }
   ],
   "source": [
    "s"
   ]
  },
  {
   "cell_type": "code",
   "execution_count": 32,
   "id": "5808e035-2556-424a-ac1b-182af55e6f9b",
   "metadata": {},
   "outputs": [
    {
     "ename": "TypeError",
     "evalue": "unsupported operand type(s) for +: 'set' and 'set'",
     "output_type": "error",
     "traceback": [
      "\u001b[1;31m---------------------------------------------------------------------------\u001b[0m",
      "\u001b[1;31mTypeError\u001b[0m                                 Traceback (most recent call last)",
      "Cell \u001b[1;32mIn[32], line 2\u001b[0m\n\u001b[0;32m      1\u001b[0m \u001b[38;5;66;03m# We Cannot do this type of operations like Lists & Tuples\u001b[39;00m\n\u001b[1;32m----> 2\u001b[0m s \u001b[38;5;241m+\u001b[39m s1\n",
      "\u001b[1;31mTypeError\u001b[0m: unsupported operand type(s) for +: 'set' and 'set'"
     ]
    }
   ],
   "source": [
    "# We Cannot do this type of operations like Lists & Tuples\n",
    "s + s1"
   ]
  },
  {
   "cell_type": "code",
   "execution_count": 33,
   "id": "df7f4aed-f079-4a9d-b0fc-ef05fa38f96f",
   "metadata": {},
   "outputs": [
    {
     "ename": "TypeError",
     "evalue": "unsupported operand type(s) for *: 'set' and 'int'",
     "output_type": "error",
     "traceback": [
      "\u001b[1;31m---------------------------------------------------------------------------\u001b[0m",
      "\u001b[1;31mTypeError\u001b[0m                                 Traceback (most recent call last)",
      "Cell \u001b[1;32mIn[33], line 3\u001b[0m\n\u001b[0;32m      1\u001b[0m \u001b[38;5;66;03m# We Cannot do this type of operations like Lists & Tuples\u001b[39;00m\n\u001b[1;32m----> 3\u001b[0m s \u001b[38;5;241m*\u001b[39m \u001b[38;5;241m4\u001b[39m\n",
      "\u001b[1;31mTypeError\u001b[0m: unsupported operand type(s) for *: 'set' and 'int'"
     ]
    }
   ],
   "source": [
    "# We Cannot do this type of operations like Lists & Tuples\n",
    "\n",
    "s * 4"
   ]
  },
  {
   "cell_type": "code",
   "execution_count": 34,
   "id": "9ec7815f-b826-4ffd-bff8-1e03d4ed6dbf",
   "metadata": {},
   "outputs": [],
   "source": [
    "# Converting List to Set\n",
    "\n",
    "l1 = list(s)"
   ]
  },
  {
   "cell_type": "code",
   "execution_count": 35,
   "id": "ffbe54d6-e857-4506-ae13-5a1a74b512d6",
   "metadata": {},
   "outputs": [
    {
     "data": {
      "text/plain": [
       "[26, 'Avinashh', 'war']"
      ]
     },
     "execution_count": 35,
     "metadata": {},
     "output_type": "execute_result"
    }
   ],
   "source": [
    "l1"
   ]
  },
  {
   "cell_type": "code",
   "execution_count": null,
   "id": "9f03fbfd-8b18-4e2f-bb76-ddeb99c23caa",
   "metadata": {},
   "outputs": [],
   "source": []
  }
 ],
 "metadata": {
  "kernelspec": {
   "display_name": "Python 3 (ipykernel)",
   "language": "python",
   "name": "python3"
  },
  "language_info": {
   "codemirror_mode": {
    "name": "ipython",
    "version": 3
   },
   "file_extension": ".py",
   "mimetype": "text/x-python",
   "name": "python",
   "nbconvert_exporter": "python",
   "pygments_lexer": "ipython3",
   "version": "3.12.7"
  }
 },
 "nbformat": 4,
 "nbformat_minor": 5
}
