{
 "cells": [
  {
   "cell_type": "code",
   "execution_count": 1,
   "id": "c3848c42-e52a-43cf-a4df-0bb3f2e69680",
   "metadata": {},
   "outputs": [],
   "source": [
    "# String Methods "
   ]
  },
  {
   "cell_type": "code",
   "execution_count": 2,
   "id": "9bdf1d0c-adaf-49d8-83f3-f2dda506ded9",
   "metadata": {},
   "outputs": [],
   "source": [
    "s = \"Hey I am Avinash, from CAI Branch\""
   ]
  },
  {
   "cell_type": "code",
   "execution_count": 4,
   "id": "9eae8e56-ee96-477f-b867-dc82c0cf3b3c",
   "metadata": {},
   "outputs": [
    {
     "data": {
      "text/plain": [
       "3"
      ]
     },
     "execution_count": 4,
     "metadata": {},
     "output_type": "execute_result"
    }
   ],
   "source": [
    "# It will Count The Number of letter in the String\n",
    "s.count(\"a\")"
   ]
  },
  {
   "cell_type": "code",
   "execution_count": 5,
   "id": "537b3b52-548a-4fde-9a17-21874b9df124",
   "metadata": {},
   "outputs": [
    {
     "data": {
      "text/plain": [
       "'hey i am avinash, from cai branch'"
      ]
     },
     "execution_count": 5,
     "metadata": {},
     "output_type": "execute_result"
    }
   ],
   "source": [
    "# It Converts all the String into LOWERCASE \n",
    "s.lower()"
   ]
  },
  {
   "cell_type": "code",
   "execution_count": 6,
   "id": "a1a4d5a7-a8e5-4d16-8669-4872c4fedbdd",
   "metadata": {},
   "outputs": [
    {
     "data": {
      "text/plain": [
       "'HEY I AM AVINASH, FROM CAI BRANCH'"
      ]
     },
     "execution_count": 6,
     "metadata": {},
     "output_type": "execute_result"
    }
   ],
   "source": [
    "# It Converts all the String into UPPERCASE \n",
    "s.upper()"
   ]
  },
  {
   "cell_type": "code",
   "execution_count": 7,
   "id": "3a74b592-5089-496a-9b9e-550c47df7eab",
   "metadata": {},
   "outputs": [
    {
     "data": {
      "text/plain": [
       "'Hey i am avinash, from cai branch'"
      ]
     },
     "execution_count": 7,
     "metadata": {},
     "output_type": "execute_result"
    }
   ],
   "source": [
    "# It will Captalize the Word of The String\n",
    "s.capitalize()"
   ]
  },
  {
   "cell_type": "code",
   "execution_count": 8,
   "id": "ae42401f-52e9-4a8e-bead-0d028debf9c4",
   "metadata": {},
   "outputs": [
    {
     "data": {
      "text/plain": [
       "['Hey', 'I', 'am', 'Avinash,', 'from', 'CAI', 'Branch']"
      ]
     },
     "execution_count": 8,
     "metadata": {},
     "output_type": "execute_result"
    }
   ],
   "source": [
    "# To Split the whole sentance to single word\n",
    "s.split()"
   ]
  },
  {
   "cell_type": "code",
   "execution_count": 9,
   "id": "b7f1c680-9bf9-42ab-a518-b5a5f7abd972",
   "metadata": {},
   "outputs": [
    {
     "data": {
      "text/plain": [
       "9"
      ]
     },
     "execution_count": 9,
     "metadata": {},
     "output_type": "execute_result"
    }
   ],
   "source": [
    "#Not Give All Possible values just gives the index of lowest/first possible occurances\n",
    "s.find(\"Avinash\")"
   ]
  },
  {
   "cell_type": "code",
   "execution_count": 10,
   "id": "04a73a70-3c97-466a-a542-807b076d93cb",
   "metadata": {},
   "outputs": [
    {
     "data": {
      "text/plain": [
       "'hEY i AM aVINASH, FROM cai bRANCH'"
      ]
     },
     "execution_count": 10,
     "metadata": {},
     "output_type": "execute_result"
    }
   ],
   "source": [
    "#Convert uppercase characters to lowercase and lowercase characters to uppercase\n",
    "s.swapcase()"
   ]
  },
  {
   "cell_type": "code",
   "execution_count": 15,
   "id": "579d18d6-22ec-49b2-8c7c-35f817c22980",
   "metadata": {},
   "outputs": [
    {
     "data": {
      "text/plain": [
       "'Avi nash'"
      ]
     },
     "execution_count": 15,
     "metadata": {},
     "output_type": "execute_result"
    }
   ],
   "source": [
    "#Return a copy of the string with leading and trailing whitespace removed.\n",
    "a =\"    Avi nash     \"\n",
    "a.strip()"
   ]
  },
  {
   "cell_type": "code",
   "execution_count": 12,
   "id": "003fae53-8acf-406d-875f-3626fbf4f281",
   "metadata": {},
   "outputs": [
    {
     "data": {
      "text/plain": [
       "'H e y   I   a m   A v i n a s h ,   f r o m   C A I   B r a n c h'"
      ]
     },
     "execution_count": 12,
     "metadata": {},
     "output_type": "execute_result"
    }
   ],
   "source": [
    "# It will join the given String in Between Every Letter\n",
    "\" \" . join(s)"
   ]
  },
  {
   "cell_type": "code",
   "execution_count": 13,
   "id": "e0bac398-0921-4666-909a-17b30645cb73",
   "metadata": {},
   "outputs": [
    {
     "data": {
      "text/plain": [
       "<reversed at 0x213302874c0>"
      ]
     },
     "execution_count": 13,
     "metadata": {},
     "output_type": "execute_result"
    }
   ],
   "source": [
    "# It reverse the string and returns the Memory Address\n",
    "reversed(s)"
   ]
  },
  {
   "cell_type": "code",
   "execution_count": 14,
   "id": "fab869cd-2d90-4417-9940-51e04d95a1c0",
   "metadata": {},
   "outputs": [
    {
     "name": "stdout",
     "output_type": "stream",
     "text": [
      "h\n",
      "c\n",
      "n\n",
      "a\n",
      "r\n",
      "B\n",
      " \n",
      "I\n",
      "A\n",
      "C\n",
      " \n",
      "m\n",
      "o\n",
      "r\n",
      "f\n",
      " \n",
      ",\n",
      "h\n",
      "s\n",
      "a\n",
      "n\n",
      "i\n",
      "v\n",
      "A\n",
      " \n",
      "m\n",
      "a\n",
      " \n",
      "I\n",
      " \n",
      "y\n",
      "e\n",
      "H\n"
     ]
    }
   ],
   "source": [
    "# To see The OutPut of the Above Code we can run a loop through it \n",
    "\n",
    "for i in reversed(s):\n",
    "    print(i)"
   ]
  },
  {
   "cell_type": "code",
   "execution_count": 18,
   "id": "f22e4791-c734-47fc-8f39-8c6dff98f280",
   "metadata": {},
   "outputs": [
    {
     "data": {
      "text/plain": [
       "'There is an Recuritment in the Giigle'"
      ]
     },
     "execution_count": 18,
     "metadata": {},
     "output_type": "execute_result"
    }
   ],
   "source": [
    "# It will Replace The Required Letter with Given Letter\n",
    "s1 = \"There is an Recuritment in the Google\"\n",
    "\n",
    "s1.replace(\"o\" , 'i')"
   ]
  },
  {
   "cell_type": "code",
   "execution_count": 22,
   "id": "4d772ca7-208a-4c94-bcbb-b9e7c6bf5905",
   "metadata": {},
   "outputs": [
    {
     "data": {
      "text/plain": [
       "'^^^Avi^^^^'"
      ]
     },
     "execution_count": 22,
     "metadata": {},
     "output_type": "execute_result"
    }
   ],
   "source": [
    "# It will Center the string with required symbols\n",
    "A1 = \"Avi\"\n",
    "\n",
    "A1.center(10 , \"^\")"
   ]
  },
  {
   "cell_type": "code",
   "execution_count": 23,
   "id": "dc3dbf35-3c28-4721-a664-60f5a8337668",
   "metadata": {},
   "outputs": [
    {
     "data": {
      "text/plain": [
       "'Avin    ash     Sai'"
      ]
     },
     "execution_count": 23,
     "metadata": {},
     "output_type": "execute_result"
    }
   ],
   "source": [
    "# \\t stands for tabs it is used to expand the tabs\n",
    "a = \"Avin\\tash\\tSai\"\n",
    "\n",
    "a.expandtabs()"
   ]
  },
  {
   "cell_type": "code",
   "execution_count": 24,
   "id": "6a1af5f9-94b7-4132-a7b6-d3cba480047f",
   "metadata": {},
   "outputs": [
    {
     "data": {
      "text/plain": [
       "True"
      ]
     },
     "execution_count": 24,
     "metadata": {},
     "output_type": "execute_result"
    }
   ],
   "source": [
    "# You can check the Strings with Conditions\n",
    "s = \"AVI\"\n",
    "s.isupper()"
   ]
  },
  {
   "cell_type": "code",
   "execution_count": 25,
   "id": "cef74c2b-932e-499b-8918-2b188d60193d",
   "metadata": {},
   "outputs": [
    {
     "data": {
      "text/plain": [
       "True"
      ]
     },
     "execution_count": 25,
     "metadata": {},
     "output_type": "execute_result"
    }
   ],
   "source": [
    "s = \"avi\"\n",
    "s.islower()"
   ]
  },
  {
   "cell_type": "code",
   "execution_count": 28,
   "id": "ac91d577-6b49-436c-b409-c819ef70cc58",
   "metadata": {},
   "outputs": [
    {
     "data": {
      "text/plain": [
       "True"
      ]
     },
     "execution_count": 28,
     "metadata": {},
     "output_type": "execute_result"
    }
   ],
   "source": [
    "s = \"   \"\n",
    "s.isspace()"
   ]
  },
  {
   "cell_type": "code",
   "execution_count": 29,
   "id": "9751c257-44d8-4831-90e6-bc4c2a40d00c",
   "metadata": {},
   "outputs": [
    {
     "data": {
      "text/plain": [
       "True"
      ]
     },
     "execution_count": 29,
     "metadata": {},
     "output_type": "execute_result"
    }
   ],
   "source": [
    "s = \"26\"\n",
    "s.isdigit()"
   ]
  },
  {
   "cell_type": "code",
   "execution_count": 30,
   "id": "1af00e2b-f3ca-4e12-bf8a-9e08899aa9d1",
   "metadata": {},
   "outputs": [
    {
     "data": {
      "text/plain": [
       "False"
      ]
     },
     "execution_count": 30,
     "metadata": {},
     "output_type": "execute_result"
    }
   ],
   "source": [
    "s = \"Avinash\"\n",
    "s.endswith('d')"
   ]
  },
  {
   "cell_type": "code",
   "execution_count": 31,
   "id": "322ee4c2-ad3c-4315-956f-39377ffc0a19",
   "metadata": {},
   "outputs": [
    {
     "data": {
      "text/plain": [
       "True"
      ]
     },
     "execution_count": 31,
     "metadata": {},
     "output_type": "execute_result"
    }
   ],
   "source": [
    "s = \"Avinash\"\n",
    "s.startswith('A')"
   ]
  },
  {
   "cell_type": "code",
   "execution_count": 32,
   "id": "084974f0-82ab-4ae3-85b9-b693f7cffd1b",
   "metadata": {},
   "outputs": [
    {
     "data": {
      "text/plain": [
       "True"
      ]
     },
     "execution_count": 32,
     "metadata": {},
     "output_type": "execute_result"
    }
   ],
   "source": [
    "# Here alnum stands for Alpha Numeric , which means it contains both Letters and Numbers\n",
    "s = \"Avinash26\"\n",
    "s.isalnum()"
   ]
  },
  {
   "cell_type": "code",
   "execution_count": 33,
   "id": "fdd5df8f-2c40-4207-8564-81097c53d62a",
   "metadata": {},
   "outputs": [
    {
     "data": {
      "text/plain": [
       "True"
      ]
     },
     "execution_count": 33,
     "metadata": {},
     "output_type": "execute_result"
    }
   ],
   "source": [
    "# It will check if the given String is a Title or not , The title would be determined by the string's first Letter is Capital or not\n",
    "s = \"Avinash\"\n",
    "s.istitle()"
   ]
  },
  {
   "cell_type": "code",
   "execution_count": null,
   "id": "d351e7d3-74b7-47a8-8f9b-15ad90e144ae",
   "metadata": {},
   "outputs": [],
   "source": [
    "# This is the End of This String Methods , I hope everyone will Learn with me Thanking You!!!"
   ]
  }
 ],
 "metadata": {
  "kernelspec": {
   "display_name": "Python 3 (ipykernel)",
   "language": "python",
   "name": "python3"
  },
  "language_info": {
   "codemirror_mode": {
    "name": "ipython",
    "version": 3
   },
   "file_extension": ".py",
   "mimetype": "text/x-python",
   "name": "python",
   "nbconvert_exporter": "python",
   "pygments_lexer": "ipython3",
   "version": "3.12.7"
  }
 },
 "nbformat": 4,
 "nbformat_minor": 5
}
