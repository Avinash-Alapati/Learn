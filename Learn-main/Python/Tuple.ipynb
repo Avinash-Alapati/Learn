{
 "cells": [
  {
   "cell_type": "code",
   "execution_count": 1,
   "id": "8a8b887b-c209-4b64-a600-b58c014ef12d",
   "metadata": {},
   "outputs": [
    {
     "data": {
      "text/plain": [
       "tuple"
      ]
     },
     "execution_count": 1,
     "metadata": {},
     "output_type": "execute_result"
    }
   ],
   "source": [
    "# Tuples\n",
    "t = ()\n",
    "\n",
    "type(t)"
   ]
  },
  {
   "cell_type": "code",
   "execution_count": 2,
   "id": "0ce10398-a264-4a3a-b06b-4e9e2d9d85da",
   "metadata": {},
   "outputs": [
    {
     "data": {
      "text/plain": [
       "list"
      ]
     },
     "execution_count": 2,
     "metadata": {},
     "output_type": "execute_result"
    }
   ],
   "source": [
    "l = [1,2,23]\n",
    "type(l)"
   ]
  },
  {
   "cell_type": "code",
   "execution_count": 3,
   "id": "7fb0a112-1aa0-463a-bc8a-97d8d94ff09a",
   "metadata": {},
   "outputs": [
    {
     "data": {
      "text/plain": [
       "(26, 0.25, 'Avi', True)"
      ]
     },
     "execution_count": 3,
     "metadata": {},
     "output_type": "execute_result"
    }
   ],
   "source": [
    "# We can Store any data in tuple same as list\n",
    "\n",
    "tu = (26,0.25,\"Avi\",True)\n",
    "tu"
   ]
  },
  {
   "cell_type": "code",
   "execution_count": 4,
   "id": "610fa2fb-c4b6-4d17-b0a1-ff46e01f6a3d",
   "metadata": {},
   "outputs": [
    {
     "data": {
      "text/plain": [
       "(26, 0.25, 'Avi', True)"
      ]
     },
     "execution_count": 4,
     "metadata": {},
     "output_type": "execute_result"
    }
   ],
   "source": [
    "# We can Store any data in tuple same as list\n",
    "\n",
    "tu = (26,0.25,\"Avi\",True)\n",
    "tu"
   ]
  },
  {
   "cell_type": "code",
   "execution_count": 5,
   "id": "1ac67680-fc18-40e2-9b83-804199c23f24",
   "metadata": {},
   "outputs": [
    {
     "data": {
      "text/plain": [
       "'Avi'"
      ]
     },
     "execution_count": 5,
     "metadata": {},
     "output_type": "execute_result"
    }
   ],
   "source": [
    "tu[2]"
   ]
  },
  {
   "cell_type": "code",
   "execution_count": 6,
   "id": "d67d252f-b929-475d-8ef9-4c7d74cc5f0e",
   "metadata": {},
   "outputs": [
    {
     "ename": "IndexError",
     "evalue": "tuple index out of range",
     "output_type": "error",
     "traceback": [
      "\u001b[1;31m---------------------------------------------------------------------------\u001b[0m",
      "\u001b[1;31mIndexError\u001b[0m                                Traceback (most recent call last)",
      "Cell \u001b[1;32mIn[6], line 2\u001b[0m\n\u001b[0;32m      1\u001b[0m \u001b[38;5;66;03m# Index not avaliable\u001b[39;00m\n\u001b[1;32m----> 2\u001b[0m tu[\u001b[38;5;241m4\u001b[39m]\n",
      "\u001b[1;31mIndexError\u001b[0m: tuple index out of range"
     ]
    }
   ],
   "source": [
    "# Index not avaliable\n",
    "tu[4]"
   ]
  },
  {
   "cell_type": "code",
   "execution_count": 8,
   "id": "bf368a64-fb88-412e-9f20-0e864c58036e",
   "metadata": {},
   "outputs": [
    {
     "data": {
      "text/plain": [
       "(26, 0.25, 'Avi', True)"
      ]
     },
     "execution_count": 8,
     "metadata": {},
     "output_type": "execute_result"
    }
   ],
   "source": [
    "#Slicing\n",
    "\n",
    "tu[0:4]"
   ]
  },
  {
   "cell_type": "code",
   "execution_count": 9,
   "id": "04acc27b-6b2c-468f-86c3-f7af2e6d094d",
   "metadata": {},
   "outputs": [
    {
     "data": {
      "text/plain": [
       "4"
      ]
     },
     "execution_count": 9,
     "metadata": {},
     "output_type": "execute_result"
    }
   ],
   "source": [
    "len(tu)"
   ]
  },
  {
   "cell_type": "code",
   "execution_count": 10,
   "id": "dc6fbf10-ac2b-4665-aa83-043f8ffe1956",
   "metadata": {},
   "outputs": [
    {
     "data": {
      "text/plain": [
       "(True, 'Avi', 0.25, 26)"
      ]
     },
     "execution_count": 10,
     "metadata": {},
     "output_type": "execute_result"
    }
   ],
   "source": [
    "#Reversing\n",
    "\n",
    "tu[::-1]"
   ]
  },
  {
   "cell_type": "code",
   "execution_count": 11,
   "id": "94e53351-0d0b-41c3-898e-8094904428de",
   "metadata": {},
   "outputs": [
    {
     "data": {
      "text/plain": [
       "True"
      ]
     },
     "execution_count": 11,
     "metadata": {},
     "output_type": "execute_result"
    }
   ],
   "source": [
    "#Reverse Indexing\n",
    "\n",
    "tu[-1]"
   ]
  },
  {
   "cell_type": "code",
   "execution_count": 13,
   "id": "317035ba-9e41-45ee-b362-a30600f31b4f",
   "metadata": {},
   "outputs": [
    {
     "data": {
      "text/plain": [
       "[26, 'Heyy!', 'Avi', True]"
      ]
     },
     "execution_count": 13,
     "metadata": {},
     "output_type": "execute_result"
    }
   ],
   "source": [
    "# List is Mutable\n",
    "li = [26,0.25,\"Avi\",True]\n",
    "li[1] = \"Heyy!\"\n",
    "li"
   ]
  },
  {
   "cell_type": "code",
   "execution_count": 14,
   "id": "6fd8579a-4f4f-40b6-bb54-29984a81f3a8",
   "metadata": {},
   "outputs": [
    {
     "data": {
      "text/plain": [
       "(26, 0.25, 'Avi', True)"
      ]
     },
     "execution_count": 14,
     "metadata": {},
     "output_type": "execute_result"
    }
   ],
   "source": [
    "tu"
   ]
  },
  {
   "cell_type": "code",
   "execution_count": 15,
   "id": "bb6aacfa-21e2-42d4-8e74-3f51b67463c4",
   "metadata": {},
   "outputs": [
    {
     "ename": "TypeError",
     "evalue": "'tuple' object does not support item assignment",
     "output_type": "error",
     "traceback": [
      "\u001b[1;31m---------------------------------------------------------------------------\u001b[0m",
      "\u001b[1;31mTypeError\u001b[0m                                 Traceback (most recent call last)",
      "Cell \u001b[1;32mIn[15], line 2\u001b[0m\n\u001b[0;32m      1\u001b[0m \u001b[38;5;66;03m# Tuples are immutable Like Strings\u001b[39;00m\n\u001b[1;32m----> 2\u001b[0m tu[\u001b[38;5;241m0\u001b[39m] \u001b[38;5;241m=\u001b[39m \u001b[38;5;124m\"\u001b[39m\u001b[38;5;124mKiet\u001b[39m\u001b[38;5;124m\"\u001b[39m\n",
      "\u001b[1;31mTypeError\u001b[0m: 'tuple' object does not support item assignment"
     ]
    }
   ],
   "source": [
    "# Tuples are immutable Like Strings\n",
    "tu[0] = \"Kiet\""
   ]
  },
  {
   "cell_type": "code",
   "execution_count": 16,
   "id": "8e559ae6-fd50-41ce-8e4b-dc8283a4e7ef",
   "metadata": {},
   "outputs": [],
   "source": [
    "t1 = (2,10,26)"
   ]
  },
  {
   "cell_type": "code",
   "execution_count": 17,
   "id": "6fe64faa-85c2-41a7-81fe-5cbe04f7d93a",
   "metadata": {},
   "outputs": [
    {
     "data": {
      "text/plain": [
       "(26, 0.25, 'Avi', True, 2, 10, 26)"
      ]
     },
     "execution_count": 17,
     "metadata": {},
     "output_type": "execute_result"
    }
   ],
   "source": [
    "tu + t1"
   ]
  },
  {
   "cell_type": "code",
   "execution_count": 18,
   "id": "76e32ed6-3faf-4d1d-b348-1101ce99979b",
   "metadata": {},
   "outputs": [
    {
     "data": {
      "text/plain": [
       "(2, 10, 26, 2, 10, 26, 2, 10, 26)"
      ]
     },
     "execution_count": 18,
     "metadata": {},
     "output_type": "execute_result"
    }
   ],
   "source": [
    "t1 *3"
   ]
  },
  {
   "cell_type": "code",
   "execution_count": 19,
   "id": "06af5f9c-d2d5-44ca-9372-e6cc164c488a",
   "metadata": {},
   "outputs": [
    {
     "data": {
      "text/plain": [
       "True"
      ]
     },
     "execution_count": 19,
     "metadata": {},
     "output_type": "execute_result"
    }
   ],
   "source": [
    "26 in t1"
   ]
  },
  {
   "cell_type": "code",
   "execution_count": 20,
   "id": "7587c13b-f7bb-4961-b84b-fe8a88be3259",
   "metadata": {},
   "outputs": [
    {
     "data": {
      "text/plain": [
       "False"
      ]
     },
     "execution_count": 20,
     "metadata": {},
     "output_type": "execute_result"
    }
   ],
   "source": [
    "\"Aviii\" in t1 "
   ]
  },
  {
   "cell_type": "code",
   "execution_count": 21,
   "id": "0ed5007e-8073-46c4-b7ec-7768f7cda746",
   "metadata": {},
   "outputs": [
    {
     "data": {
      "text/plain": [
       "(26, 0.25, 'Avi', True)"
      ]
     },
     "execution_count": 21,
     "metadata": {},
     "output_type": "execute_result"
    }
   ],
   "source": [
    "tu"
   ]
  },
  {
   "cell_type": "code",
   "execution_count": 22,
   "id": "9538f3b8-3fbe-4d16-ac10-2c1b0889c759",
   "metadata": {},
   "outputs": [
    {
     "ename": "TypeError",
     "evalue": "'>' not supported between instances of 'str' and 'int'",
     "output_type": "error",
     "traceback": [
      "\u001b[1;31m---------------------------------------------------------------------------\u001b[0m",
      "\u001b[1;31mTypeError\u001b[0m                                 Traceback (most recent call last)",
      "Cell \u001b[1;32mIn[22], line 3\u001b[0m\n\u001b[0;32m      1\u001b[0m \u001b[38;5;66;03m# str and int error\u001b[39;00m\n\u001b[1;32m----> 3\u001b[0m \u001b[38;5;28mmax\u001b[39m(tu)\n",
      "\u001b[1;31mTypeError\u001b[0m: '>' not supported between instances of 'str' and 'int'"
     ]
    }
   ],
   "source": [
    "# str and int error\n",
    "\n",
    "max(tu)"
   ]
  },
  {
   "cell_type": "code",
   "execution_count": 23,
   "id": "3d3b69b0-f1fd-4d31-99f7-6b68dc729b43",
   "metadata": {},
   "outputs": [
    {
     "data": {
      "text/plain": [
       "(2, 10, 26)"
      ]
     },
     "execution_count": 23,
     "metadata": {},
     "output_type": "execute_result"
    }
   ],
   "source": [
    "t1"
   ]
  },
  {
   "cell_type": "code",
   "execution_count": 24,
   "id": "7d27b422-6b23-49c7-9ccb-de5bf98c2058",
   "metadata": {},
   "outputs": [
    {
     "data": {
      "text/plain": [
       "26"
      ]
     },
     "execution_count": 24,
     "metadata": {},
     "output_type": "execute_result"
    }
   ],
   "source": [
    "max(t1)"
   ]
  },
  {
   "cell_type": "code",
   "execution_count": 25,
   "id": "adb4c961-6a8f-49fe-b7bb-cda495633e52",
   "metadata": {},
   "outputs": [
    {
     "data": {
      "text/plain": [
       "'Kiet'"
      ]
     },
     "execution_count": 25,
     "metadata": {},
     "output_type": "execute_result"
    }
   ],
   "source": [
    "tn = (\"Avinash\", \"Kiet\" , \"CAI\")\n",
    "\n",
    "max(tn)"
   ]
  },
  {
   "cell_type": "code",
   "execution_count": 29,
   "id": "bc160e51-e511-4ca3-9eda-4d18299ad7f8",
   "metadata": {},
   "outputs": [
    {
     "data": {
      "text/plain": [
       "'Avinash'"
      ]
     },
     "execution_count": 29,
     "metadata": {},
     "output_type": "execute_result"
    }
   ],
   "source": [
    "min(tn)"
   ]
  },
  {
   "cell_type": "code",
   "execution_count": 26,
   "id": "5e188317-629f-4d97-9edf-38a09ce28ddb",
   "metadata": {},
   "outputs": [
    {
     "data": {
      "text/plain": [
       "2"
      ]
     },
     "execution_count": 26,
     "metadata": {},
     "output_type": "execute_result"
    }
   ],
   "source": [
    "min(t1)"
   ]
  },
  {
   "cell_type": "code",
   "execution_count": 27,
   "id": "d2c0a14b-f90c-4c39-93d6-06f4d1aaef73",
   "metadata": {},
   "outputs": [
    {
     "data": {
      "text/plain": [
       "0"
      ]
     },
     "execution_count": 27,
     "metadata": {},
     "output_type": "execute_result"
    }
   ],
   "source": [
    "# Tuple has only 2 Functions - index,count\n",
    "tn.count(\"a\")"
   ]
  },
  {
   "cell_type": "code",
   "execution_count": 28,
   "id": "d22ee4b3-9be0-4a8c-929c-ca7498aabe24",
   "metadata": {},
   "outputs": [
    {
     "data": {
      "text/plain": [
       "2"
      ]
     },
     "execution_count": 28,
     "metadata": {},
     "output_type": "execute_result"
    }
   ],
   "source": [
    "tn.index(\"CAI\")"
   ]
  },
  {
   "cell_type": "code",
   "execution_count": 37,
   "id": "53dd6be7-5d03-4c5e-8da7-21d0082eb00a",
   "metadata": {},
   "outputs": [],
   "source": [
    "# We Cant append for an tuple we can do by adding tuples but we cant add a single int\n"
   ]
  },
  {
   "cell_type": "code",
   "execution_count": 31,
   "id": "ec835936-ca29-4f02-9859-3b6af010b13e",
   "metadata": {},
   "outputs": [
    {
     "data": {
      "text/plain": [
       "(2, 10, 26, 90, 45)"
      ]
     },
     "execution_count": 31,
     "metadata": {},
     "output_type": "execute_result"
    }
   ],
   "source": [
    "# we can do like this but what if need to add a single int\n",
    "t3 = (90,45)\n",
    "\n",
    "t1+t3\n"
   ]
  },
  {
   "cell_type": "code",
   "execution_count": 35,
   "id": "2bc46410-9670-4eb0-950a-ee5cb6a3bd12",
   "metadata": {},
   "outputs": [
    {
     "ename": "TypeError",
     "evalue": "can only concatenate tuple (not \"int\") to tuple",
     "output_type": "error",
     "traceback": [
      "\u001b[1;31m---------------------------------------------------------------------------\u001b[0m",
      "\u001b[1;31mTypeError\u001b[0m                                 Traceback (most recent call last)",
      "Cell \u001b[1;32mIn[35], line 3\u001b[0m\n\u001b[0;32m      1\u001b[0m t4 \u001b[38;5;241m=\u001b[39m \u001b[38;5;241m26\u001b[39m\n\u001b[1;32m----> 3\u001b[0m t1\u001b[38;5;241m+\u001b[39mt4\n",
      "\u001b[1;31mTypeError\u001b[0m: can only concatenate tuple (not \"int\") to tuple"
     ]
    }
   ],
   "source": [
    "t4 = 26\n",
    "\n",
    "t1+t4"
   ]
  },
  {
   "cell_type": "code",
   "execution_count": 38,
   "id": "95aa0419-4a50-41ce-93e8-ceb0d1c73920",
   "metadata": {},
   "outputs": [
    {
     "data": {
      "text/plain": [
       "[2, 10, 26]"
      ]
     },
     "execution_count": 38,
     "metadata": {},
     "output_type": "execute_result"
    }
   ],
   "source": [
    "\n",
    "l4 = list(t1)\n",
    "\n",
    "l4"
   ]
  },
  {
   "cell_type": "code",
   "execution_count": 39,
   "id": "f74a042e-9cc2-41ba-8bc6-f7c74466b321",
   "metadata": {},
   "outputs": [
    {
     "data": {
      "text/plain": [
       "[2, 10, 26, 26]"
      ]
     },
     "execution_count": 39,
     "metadata": {},
     "output_type": "execute_result"
    }
   ],
   "source": [
    "l4.append(26)\n",
    "l4"
   ]
  },
  {
   "cell_type": "code",
   "execution_count": 40,
   "id": "f90e640b-3472-40f4-ad34-6c63656c5f84",
   "metadata": {},
   "outputs": [],
   "source": [
    "t5 = tuple(l4)"
   ]
  },
  {
   "cell_type": "code",
   "execution_count": 42,
   "id": "7ebed02a-f788-4745-a181-7443c8ad0a5c",
   "metadata": {},
   "outputs": [
    {
     "data": {
      "text/plain": [
       "(2, 10, 26, 26)"
      ]
     },
     "execution_count": 42,
     "metadata": {},
     "output_type": "execute_result"
    }
   ],
   "source": [
    "t5"
   ]
  },
  {
   "cell_type": "code",
   "execution_count": 43,
   "id": "faf499c5-b686-44e3-9da1-309400373be2",
   "metadata": {},
   "outputs": [],
   "source": [
    "t = ((26.2,\"Avi\"),(\"python\" , 12.5 ,23),(\"GCC\",\"K-Hub\",\"Robotics\"),27,7,23 , [\"Avinash\",\"Sai\",123 ,987])"
   ]
  },
  {
   "cell_type": "code",
   "execution_count": 44,
   "id": "73db310c-65a9-4db8-bc00-a54f12ff7d7d",
   "metadata": {},
   "outputs": [
    {
     "data": {
      "text/plain": [
       "((26.2, 'Avi'),\n",
       " ('python', 12.5, 23),\n",
       " ('GCC', 'K-Hub', 'Robotics'),\n",
       " 27,\n",
       " 7,\n",
       " 23,\n",
       " ['Avinash', 'Sai', 123, 987])"
      ]
     },
     "execution_count": 44,
     "metadata": {},
     "output_type": "execute_result"
    }
   ],
   "source": [
    "t"
   ]
  },
  {
   "cell_type": "code",
   "execution_count": 45,
   "id": "bfec38a2-dbbc-43f2-a97f-230a43064328",
   "metadata": {},
   "outputs": [
    {
     "data": {
      "text/plain": [
       "123"
      ]
     },
     "execution_count": 45,
     "metadata": {},
     "output_type": "execute_result"
    }
   ],
   "source": [
    "# TO get the required ELement from the Nested tuple which is 123 from last list\n",
    "t[6][2]"
   ]
  },
  {
   "cell_type": "code",
   "execution_count": 46,
   "id": "ec61dd95-908a-4426-8af9-259ac616c1dc",
   "metadata": {},
   "outputs": [
    {
     "name": "stdout",
     "output_type": "stream",
     "text": [
      "26.2\n",
      "python\n",
      "GCC\n"
     ]
    }
   ],
   "source": [
    "# If its a tuple i want first element of it\n",
    "\n",
    "for i in t:\n",
    "    if type(i) == tuple:\n",
    "        print(i[0])"
   ]
  },
  {
   "cell_type": "code",
   "execution_count": 47,
   "id": "89e2c891-42b8-4bfe-895d-f2b596fb3dd5",
   "metadata": {},
   "outputs": [
    {
     "data": {
      "text/plain": [
       "(26, 0.25, 'Avi', True)"
      ]
     },
     "execution_count": 47,
     "metadata": {},
     "output_type": "execute_result"
    }
   ],
   "source": [
    "tu"
   ]
  },
  {
   "cell_type": "code",
   "execution_count": 48,
   "id": "b253c782-f07f-4f2b-babe-5244a19644b5",
   "metadata": {},
   "outputs": [
    {
     "data": {
      "text/plain": [
       "(2, 10, 26)"
      ]
     },
     "execution_count": 48,
     "metadata": {},
     "output_type": "execute_result"
    }
   ],
   "source": [
    "t1"
   ]
  },
  {
   "cell_type": "code",
   "execution_count": 49,
   "id": "58e73312-b70f-499d-832c-340c216eb2c9",
   "metadata": {},
   "outputs": [
    {
     "name": "stdout",
     "output_type": "stream",
     "text": [
      "Its Not Same\n"
     ]
    }
   ],
   "source": [
    "if len(tu) == len(t1):\n",
    "    print(\"Its Same!!\")\n",
    "else:\n",
    "    print(\"Its Not Same\")"
   ]
  },
  {
   "cell_type": "code",
   "execution_count": 50,
   "id": "392d5db3-fe9b-4014-88db-09913f17132c",
   "metadata": {},
   "outputs": [],
   "source": [
    "t = (26, 0.25, 'Avi', True,\"Nash\")"
   ]
  },
  {
   "cell_type": "code",
   "execution_count": 51,
   "id": "917d8870-f318-4a00-b153-b74ae4b6b4b7",
   "metadata": {},
   "outputs": [
    {
     "name": "stdin",
     "output_type": "stream",
     "text": [
      "Enter Your Query: Avi\n"
     ]
    },
    {
     "name": "stdout",
     "output_type": "stream",
     "text": [
      "Yes , Its Avaliable in the Tuple\n"
     ]
    }
   ],
   "source": [
    "i = input(\"Enter Your Query:\")\n",
    "\n",
    "if i in t:\n",
    "    print(\"Yes , Its Avaliable in the Tuple\")\n",
    "else:\n",
    "    print(\"No , Its not in the Tuple\")"
   ]
  },
  {
   "cell_type": "code",
   "execution_count": 52,
   "id": "e741a51c-c78a-47ab-aedf-cf7a688454de",
   "metadata": {},
   "outputs": [],
   "source": [
    "t6 = (34,56)"
   ]
  },
  {
   "cell_type": "code",
   "execution_count": 53,
   "id": "829917e7-002e-43c7-998e-e87a61b15fbc",
   "metadata": {},
   "outputs": [
    {
     "data": {
      "text/plain": [
       "(34, 56)"
      ]
     },
     "execution_count": 53,
     "metadata": {},
     "output_type": "execute_result"
    }
   ],
   "source": [
    "t6"
   ]
  },
  {
   "cell_type": "code",
   "execution_count": 54,
   "id": "1395d0ef-028f-47ed-9bc4-07dc5d4e5d3c",
   "metadata": {},
   "outputs": [],
   "source": [
    "del(t6)"
   ]
  },
  {
   "cell_type": "code",
   "execution_count": 55,
   "id": "9da4c296-a0f6-49d7-9413-baca18362c7b",
   "metadata": {},
   "outputs": [
    {
     "ename": "NameError",
     "evalue": "name 't6' is not defined",
     "output_type": "error",
     "traceback": [
      "\u001b[1;31m---------------------------------------------------------------------------\u001b[0m",
      "\u001b[1;31mNameError\u001b[0m                                 Traceback (most recent call last)",
      "Cell \u001b[1;32mIn[55], line 1\u001b[0m\n\u001b[1;32m----> 1\u001b[0m t6\n",
      "\u001b[1;31mNameError\u001b[0m: name 't6' is not defined"
     ]
    }
   ],
   "source": [
    "t6"
   ]
  },
  {
   "cell_type": "code",
   "execution_count": null,
   "id": "c3716fa2-94da-4d0c-b6be-a844eafcc217",
   "metadata": {},
   "outputs": [],
   "source": []
  }
 ],
 "metadata": {
  "kernelspec": {
   "display_name": "Python 3 (ipykernel)",
   "language": "python",
   "name": "python3"
  },
  "language_info": {
   "codemirror_mode": {
    "name": "ipython",
    "version": 3
   },
   "file_extension": ".py",
   "mimetype": "text/x-python",
   "name": "python",
   "nbconvert_exporter": "python",
   "pygments_lexer": "ipython3",
   "version": "3.12.7"
  }
 },
 "nbformat": 4,
 "nbformat_minor": 5
}
